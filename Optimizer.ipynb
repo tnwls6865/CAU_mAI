{
  "nbformat": 4,
  "nbformat_minor": 0,
  "metadata": {
    "colab": {
      "provenance": [],
      "gpuType": "T4",
      "authorship_tag": "ABX9TyOR/243JlPHZzggADqcrS60",
      "include_colab_link": true
    },
    "kernelspec": {
      "name": "python3",
      "display_name": "Python 3"
    },
    "language_info": {
      "name": "python"
    },
    "accelerator": "GPU"
  },
  "cells": [
    {
      "cell_type": "markdown",
      "metadata": {
        "id": "view-in-github",
        "colab_type": "text"
      },
      "source": [
        "<a href=\"https://colab.research.google.com/github/tnwls6865/CAU_mAI/blob/main/Optimizer.ipynb\" target=\"_parent\"><img src=\"https://colab.research.google.com/assets/colab-badge.svg\" alt=\"Open In Colab\"/></a>"
      ]
    },
    {
      "cell_type": "code",
      "execution_count": 1,
      "metadata": {
        "id": "AjKACrmWstcZ"
      },
      "outputs": [],
      "source": [
        "from google.colab import drive"
      ]
    },
    {
      "cell_type": "code",
      "source": [
        "drive.mount('/content/drive')"
      ],
      "metadata": {
        "colab": {
          "base_uri": "https://localhost:8080/"
        },
        "id": "4m0HiKuNvnQb",
        "outputId": "e3859ae4-2405-4879-cf9c-ba3ec503b757"
      },
      "execution_count": 2,
      "outputs": [
        {
          "output_type": "stream",
          "name": "stdout",
          "text": [
            "Mounted at /content/drive\n"
          ]
        }
      ]
    },
    {
      "cell_type": "markdown",
      "source": [
        "## Linear Classifier with Regularization"
      ],
      "metadata": {
        "id": "H626bUQw1Ee_"
      }
    },
    {
      "cell_type": "code",
      "source": [
        "\n",
        "import random\n",
        "import numpy as np\n",
        "import matplotlib.pyplot as plt\n",
        "\n",
        "import torch\n",
        "import torchvision\n",
        "import torchvision.transforms as transforms\n"
      ],
      "metadata": {
        "id": "GSZDHKVd1Iyw"
      },
      "execution_count": 3,
      "outputs": []
    },
    {
      "cell_type": "code",
      "source": [
        "# 데이터 변환 파이프라인 정의: 이미지를 텐서로 변환하고, 각 채널을 0.5로 정규화\n",
        "transform = transforms.Compose(\n",
        "    [transforms.ToTensor(),\n",
        "     transforms.Normalize((0.5, 0.5, 0.5), (0.5, 0.5, 0.5))])\n",
        "\n",
        "# 배치 사이즈 설정\n",
        "batch_size = 4\n",
        "\n",
        "# CIFAR10 학습 데이터셋 로드 (이미지 변환 적용)\n",
        "trainset = torchvision.datasets.CIFAR10(root='./data', train=True,\n",
        "                                        download=True, transform=transform)\n",
        "# 학습 데이터 로더 설정\n",
        "trainloader = torch.utils.data.DataLoader(trainset, batch_size=batch_size,\n",
        "                                          shuffle=True, num_workers=2)\n",
        "\n",
        "# CIFAR10 테스트 데이터셋 로드 (이미지 변환 적용)\n",
        "testset = torchvision.datasets.CIFAR10(root='./data', train=False,\n",
        "                                       download=True, transform=transform)\n",
        "# 테스트 데이터 로더 설정\n",
        "testloader = torch.utils.data.DataLoader(testset, batch_size=batch_size,\n",
        "                                         shuffle=False, num_workers=2)"
      ],
      "metadata": {
        "colab": {
          "base_uri": "https://localhost:8080/"
        },
        "id": "N42bwOO01Lw6",
        "outputId": "eef54ca0-0519-47ef-f62e-87110d3fa09f"
      },
      "execution_count": 4,
      "outputs": [
        {
          "output_type": "stream",
          "name": "stdout",
          "text": [
            "Files already downloaded and verified\n",
            "Files already downloaded and verified\n"
          ]
        }
      ]
    },
    {
      "cell_type": "code",
      "source": [
        "# CIFAR10 데이터셋의 클래스 정의\n",
        "classes = ('plane', 'car', 'bird', 'cat',\n",
        "           'deer', 'dog', 'frog', 'horse', 'ship', 'truck')"
      ],
      "metadata": {
        "id": "IAXxd0nd1NyJ"
      },
      "execution_count": 5,
      "outputs": []
    },
    {
      "cell_type": "code",
      "source": [
        "\n",
        "# 이미지를 화면에 보여주는 함수 정의 (unnormalize)\n",
        "def imshow(img):\n",
        "    img = img / 2 + 0.5     # 정규화된 이미지를 원래 값으로 복원\n",
        "    npimg = img.numpy()\n",
        "    plt.imshow(np.transpose(npimg, (1, 2, 0))) # (C, H, W) -> (H, W, C)로 변환하여 표시\n",
        "    plt.show()\n",
        "\n",
        "\n",
        "# 랜덤 학습 이미지 가져오기\n",
        "dataiter = iter(trainloader)\n",
        "images, labels = next(dataiter)\n",
        "\n",
        "# 이미지를 화면에 보여줌\n",
        "imshow(torchvision.utils.make_grid(images))\n",
        "# 라벨 출력\n",
        "print(' '.join(f'{classes[labels[j]]:5s}' for j in range(batch_size)))"
      ],
      "metadata": {
        "colab": {
          "base_uri": "https://localhost:8080/",
          "height": 211
        },
        "id": "asCKdI391RGW",
        "outputId": "a850d08c-d555-4360-8bbe-0414e142f060"
      },
      "execution_count": null,
      "outputs": [
        {
          "output_type": "display_data",
          "data": {
            "text/plain": [
              "<Figure size 640x480 with 1 Axes>"
            ],
            "image/png": "[encoded data removed]"
          },
          "metadata": {}
        },
        {
          "output_type": "stream",
          "name": "stdout",
          "text": [
            "plane car   horse car  \n"
          ]
        }
      ]
    },
    {
      "cell_type": "code",
      "source": [
        "# 학습 데이터셋과 테스트 데이터셋을 각각 배열로 변환하기 위해 리스트 초기화\n",
        "X_train, y_train = [], []\n",
        "X_test, y_test = [], []\n",
        "\n",
        "# 학습 데이터셋을 이미지 데이터를 numpy 배열로 변환하여 X_train과 y_train에 저장\n",
        "for i, (X, y) in enumerate(trainset):\n",
        "    X_train.append(np.array(X))\n",
        "    y_train.append(np.array(y))"
      ],
      "metadata": {
        "id": "bFFciNw61SoL"
      },
      "execution_count": null,
      "outputs": []
    },
    {
      "cell_type": "code",
      "source": [
        "\n",
        "# 학습 데이터셋 크기 출력\n",
        "print(len(X_train))\n",
        "X_train = np.array(X_train)\n",
        "y_train = np.array(y_train)\n",
        "\n",
        "print(X_train.shape)\n",
        "print(y_train.shape)"
      ],
      "metadata": {
        "colab": {
          "base_uri": "https://localhost:8080/"
        },
        "id": "D67GIapw1TPG",
        "outputId": "ebd9ab1d-ee61-4d24-b84c-85a191884c72"
      },
      "execution_count": null,
      "outputs": [
        {
          "output_type": "stream",
          "name": "stdout",
          "text": [
            "50000\n",
            "(50000, 3, 32, 32)\n",
            "(50000,)\n"
          ]
        }
      ]
    },
    {
      "cell_type": "code",
      "source": [
        "\n",
        "# 테스트 데이터셋을 이미지 데이터를 numpy 배열로 변환하여 X_test와 y_test에 저장\n",
        "for i, (X, y) in enumerate(testset):\n",
        "    X_test.append(np.array(X))\n",
        "    y_test.append(np.array(y))\n",
        "\n",
        "print(len(X_test))\n",
        "X_test = np.array(X_test)\n",
        "y_test = np.array(y_test)\n",
        "\n",
        "print(X_test.shape)\n",
        "print(y_test.shape)"
      ],
      "metadata": {
        "colab": {
          "base_uri": "https://localhost:8080/"
        },
        "id": "95oXBF0F1VYU",
        "outputId": "abbe10ab-3a95-47c3-f21b-936bf19441ef"
      },
      "execution_count": null,
      "outputs": [
        {
          "output_type": "stream",
          "name": "stdout",
          "text": [
            "10000\n",
            "(10000, 3, 32, 32)\n",
            "(10000,)\n"
          ]
        }
      ]
    },
    {
      "cell_type": "code",
      "source": [
        "# 데이터셋을 분할하여 학습, 검증, 테스트 세트로 나눔\n",
        "num_training = 49000\n",
        "num_validation = 1000\n",
        "num_test = 1000\n",
        "\n",
        "# 검증 데이터 분리\n",
        "mask = range(num_training, num_training + num_validation)\n",
        "X_val = X_train[mask]\n",
        "y_val = y_train[mask]\n",
        "# 학습 데이터 분리\n",
        "mask = range(num_training)\n",
        "X_train = X_train[mask]\n",
        "y_train = y_train[mask]\n",
        "# 테스트 데이터 분리\n",
        "mask = range(num_test)\n",
        "X_test = X_test[mask]\n",
        "y_test = y_test[mask]"
      ],
      "metadata": {
        "id": "eh2jVGol1XQ6"
      },
      "execution_count": null,
      "outputs": []
    },
    {
      "cell_type": "code",
      "source": [
        "\n",
        "# 데이터 전처리: 이미지 데이터를 행(row) 형태로 변환\n",
        "X_train = np.reshape(X_train, (X_train.shape[0], -1))\n",
        "X_val = np.reshape(X_val, (X_val.shape[0], -1))\n",
        "X_test = np.reshape(X_test, (X_test.shape[0], -1))\n",
        "\n",
        "print ('Training data shape: ', X_train.shape)\n",
        "print ('Validation data shape: ', X_val.shape)\n",
        "print ('Test data shape: ', X_test.shape)\n"
      ],
      "metadata": {
        "colab": {
          "base_uri": "https://localhost:8080/"
        },
        "id": "XJ-tnkGi1aTO",
        "outputId": "b185f37a-5854-4132-8df9-fd7f931618d1"
      },
      "execution_count": null,
      "outputs": [
        {
          "output_type": "stream",
          "name": "stdout",
          "text": [
            "Training data shape:  (49000, 3072)\n",
            "Validation data shape:  (1000, 3072)\n",
            "Test data shape:  (1000, 3072)\n"
          ]
        }
      ]
    },
    {
      "cell_type": "code",
      "source": [
        "\n",
        "# 데이터에 편향(bias) 추가 (모든 데이터에 1 추가)\n",
        "X_train = np.hstack([X_train, np.ones((X_train.shape[0], 1))])\n",
        "X_val = np.hstack([X_val, np.ones((X_val.shape[0], 1))])\n",
        "X_test = np.hstack([X_test, np.ones((X_test.shape[0], 1))])\n",
        "\n",
        "print(X_train.shape, X_val.shape, X_test.shape)"
      ],
      "metadata": {
        "colab": {
          "base_uri": "https://localhost:8080/"
        },
        "id": "ayFrVabr1cl1",
        "outputId": "217e6396-c0f5-4275-b286-db1f6c4847e7"
      },
      "execution_count": null,
      "outputs": [
        {
          "output_type": "stream",
          "name": "stdout",
          "text": [
            "(49000, 3073) (1000, 3073) (1000, 3073)\n"
          ]
        }
      ]
    },
    {
      "cell_type": "code",
      "source": [
        "# 선형 분류기 클래스 정의\n",
        "class LinearClassifier(object):\n",
        "    def __init__(self):\n",
        "        self.W = None # 가중치 초기화\n",
        "\n",
        "    def train(self, X, y, learning_rate=1e-3, reg=1e-5, num_iters=100,\n",
        "                batch_size=200, verbose=False):\n",
        "\n",
        "        num_train, dim = X.shape\n",
        "        num_classes = np.max(y) + 1  # 클래스의 수를 0 ~ K-1로 가정\n",
        "        if self.W is None:\n",
        "            # 가중치 초기화 (랜덤 값으로 초기화)\n",
        "            self.W = 0.001 * np.random.randn(dim, num_classes)\n",
        "\n",
        "        # 배치 경사 하강법(Gradient Descent) 실행하여 W 최적화\n",
        "        loss_history = []\n",
        "        for it in range(num_iters):\n",
        "            # 전체 데이터셋에 대해 손실과 그라디언트 계산\n",
        "            loss, grad = self.loss(X, y, reg)\n",
        "            loss_history.append(loss)\n",
        "\n",
        "            # 가중치 업데이트 (Gradient Descent)\n",
        "            self.W -= learning_rate * grad\n",
        "\n",
        "            # 손실 값 출력\n",
        "            if verbose and it % 10 == 0:\n",
        "                print('iteration %d / %d: loss %f' % (it, num_iters, loss))\n",
        "\n",
        "        return loss_history\n",
        "\n",
        "    def predict(self, X):\n",
        "        # 주어진 데이터 X에 대해 예측 값 반환\n",
        "        y_pred = np.zeros(X.shape[1])\n",
        "        y_pred = np.argmax(np.dot(X, self.W), axis=1)\n",
        "\n",
        "        return y_pred\n",
        "\n",
        "    def loss(self, W, X_batch, y_batch, reg):\n",
        "\n",
        "        pass"
      ],
      "metadata": {
        "id": "0086PI0P1gtM"
      },
      "execution_count": null,
      "outputs": []
    },
    {
      "cell_type": "code",
      "source": [
        "def softmax_loss_vectorized(W, X, y, reg):\n",
        "  # 손실과 기울기 초기화\n",
        "  N = X.shape[0]\n",
        "  loss = 0.0\n",
        "  dW = np.zeros_like(W)\n",
        "\n",
        "  # 순전파 (forward)\n",
        "  score = np.dot(X, W)   # (N, C) : X와 W의 행렬 곱을 통해 점수 계산 (N개의 샘플, C개의 클래스)\n",
        "  out = np.exp(score)    # 점수를 지수 함수로 변환\n",
        "  out /= np.sum(out, axis=1, keepdims=True)   # (N, C) : 각 샘플에 대해 소프트맥스 확률 계산\n",
        "  loss -= np.sum(np.log(out[np.arange(N), y]))  # 실제 정답 클래스에 해당하는 소프트맥스 확률의 로그 값을 손실로 더함\n",
        "  loss /= N  # 데이터 샘플 수로 평균 손실 계산\n",
        "\n",
        "  loss += 0.5 * reg * np.sum(W**2)  # 가중치에 대한 정규화 항(reg)이 추가된 손실 계산\n",
        "\n",
        "  # 역전파 (backward)\n",
        "  dout = np.copy(out)\n",
        "  dout[np.arange(N), y] -= 1  # 실제 정답 클래스에 해당하는 위치에서 1을 빼줌 (크로스 엔트로피 손실의 기울기)\n",
        "  dW = np.dot(X.T, dout)\n",
        "  dW /= N  # 데이터 샘플 수로 평균 기울기 계산\n",
        "\n",
        "  dW += reg * W  # 기울기에 가중치 정규화 항(reg) 추가\n",
        "\n",
        "  return loss, dW"
      ],
      "metadata": {
        "id": "Wp04hoac8zE8"
      },
      "execution_count": null,
      "outputs": []
    },
    {
      "cell_type": "code",
      "source": [
        "# Softmax 분류기\n",
        "class Softmax(LinearClassifier):\n",
        "    \"\"\" 다중 클래스 SVM 손실 함수를 사용하는 클래스 \"\"\"\n",
        "    def loss(self, X_batch, y_batch, reg):\n",
        "        return softmax_loss_vectorized(self.W, X_batch, y_batch, reg)\n"
      ],
      "metadata": {
        "id": "zP_4MrNy9Cm2"
      },
      "execution_count": null,
      "outputs": []
    },
    {
      "cell_type": "code",
      "source": [
        "# Softmax 분류기 학습\n",
        "softmax = Softmax()\n",
        "loss_hist = softmax.train(X_train, y_train.flatten(), learning_rate=1e-5, reg=5e4, num_iters=100, verbose=True)\n"
      ],
      "metadata": {
        "colab": {
          "base_uri": "https://localhost:8080/"
        },
        "id": "MH2S7DhQ9Gad",
        "outputId": "dde47a6b-e152-4f91-89bf-e13fb75bb2c4"
      },
      "execution_count": null,
      "outputs": [
        {
          "output_type": "stream",
          "name": "stdout",
          "text": [
            "iteration 0 / 300: loss 758.157154\n",
            "iteration 10 / 300: loss 2.303254\n",
            "iteration 20 / 300: loss 2.302533\n",
            "iteration 30 / 300: loss 2.302533\n",
            "iteration 40 / 300: loss 2.302533\n",
            "iteration 50 / 300: loss 2.302533\n",
            "iteration 60 / 300: loss 2.302533\n",
            "iteration 70 / 300: loss 2.302533\n",
            "iteration 80 / 300: loss 2.302533\n",
            "iteration 90 / 300: loss 2.302533\n",
            "iteration 100 / 300: loss 2.302533\n",
            "iteration 110 / 300: loss 2.302533\n",
            "iteration 120 / 300: loss 2.302533\n",
            "iteration 130 / 300: loss 2.302533\n",
            "iteration 140 / 300: loss 2.302533\n",
            "iteration 150 / 300: loss 2.302533\n",
            "iteration 160 / 300: loss 2.302533\n",
            "iteration 170 / 300: loss 2.302533\n",
            "iteration 180 / 300: loss 2.302533\n",
            "iteration 190 / 300: loss 2.302533\n",
            "iteration 200 / 300: loss 2.302533\n",
            "iteration 210 / 300: loss 2.302533\n",
            "iteration 220 / 300: loss 2.302533\n",
            "iteration 230 / 300: loss 2.302533\n",
            "iteration 240 / 300: loss 2.302533\n",
            "iteration 250 / 300: loss 2.302533\n",
            "iteration 260 / 300: loss 2.302533\n",
            "iteration 270 / 300: loss 2.302533\n",
            "iteration 280 / 300: loss 2.302533\n",
            "iteration 290 / 300: loss 2.302533\n"
          ]
        }
      ]
    },
    {
      "cell_type": "code",
      "source": [
        "# 학습 데이터에 대한 예측 정확도 계산\n",
        "y_train_pred = softmax.predict(X_train)\n",
        "print('training accuracy: %f' % (np.mean(y_train == y_train_pred), ))\n",
        "\n",
        "# 검증 데이터에 대한 예측 정확도 계산\n",
        "y_val_pred = softmax.predict(X_val)\n",
        "print('validation accuracy: %f' % (np.mean(y_val == y_val_pred), ))"
      ],
      "metadata": {
        "colab": {
          "base_uri": "https://localhost:8080/"
        },
        "id": "mqPyZVG_-03m",
        "outputId": "57b9b19e-be78-4903-ef8d-02dac18c3145"
      },
      "execution_count": null,
      "outputs": [
        {
          "output_type": "stream",
          "name": "stdout",
          "text": [
            "training accuracy: 0.238449\n",
            "validation accuracy: 0.249000\n"
          ]
        }
      ]
    },
    {
      "cell_type": "markdown",
      "source": [
        "## Pytorch를 활용하여 Linear Classifier"
      ],
      "metadata": {
        "id": "GO9FH5G7xgA7"
      }
    },
    {
      "cell_type": "code",
      "source": [
        "import torch\n",
        "import torch.nn as nn\n",
        "import torch.optim as optim\n",
        "import torchvision\n",
        "import torchvision.transforms as transforms\n",
        "import matplotlib.pyplot as plt\n",
        "\n",
        "import numpy as np"
      ],
      "metadata": {
        "id": "P7NlhpmAvn4t"
      },
      "execution_count": 6,
      "outputs": []
    },
    {
      "cell_type": "markdown",
      "source": [
        "### 데이터 설정"
      ],
      "metadata": {
        "id": "qs-PvhhIxlyb"
      }
    },
    {
      "cell_type": "code",
      "source": [
        "# 데이터 변환 파이프라인 정의: 이미지를 텐서로 변환하고, 각 채널을 0.5로 정규화\n",
        "transform = transforms.Compose(\n",
        "    [transforms.ToTensor(),\n",
        "     transforms.Normalize((0.5, 0.5, 0.5), (0.5, 0.5, 0.5))])\n",
        "\n",
        "# 배치 사이즈 설정\n",
        "batch_size = 4\n",
        "\n",
        "# CIFAR10 학습 데이터셋 로드 (이미지 변환 적용)\n",
        "trainset = torchvision.datasets.CIFAR10(root='./data', train=True,\n",
        "                                        download=True, transform=transform)\n",
        "# 학습 데이터 로더 설정\n",
        "trainloader = torch.utils.data.DataLoader(trainset, batch_size=batch_size,\n",
        "                                          shuffle=True, num_workers=2)\n",
        "\n",
        "# CIFAR10 테스트 데이터셋 로드 (이미지 변환 적용)\n",
        "testset = torchvision.datasets.CIFAR10(root='./data', train=False,\n",
        "                                       download=True, transform=transform)\n",
        "# 테스트 데이터 로더 설정\n",
        "testloader = torch.utils.data.DataLoader(testset, batch_size=batch_size,\n",
        "                                         shuffle=False, num_workers=2)"
      ],
      "metadata": {
        "colab": {
          "base_uri": "https://localhost:8080/"
        },
        "id": "VCSqsgl9v6hK",
        "outputId": "78dac60e-eb81-478d-dbfa-8cb35e169da7"
      },
      "execution_count": 7,
      "outputs": [
        {
          "output_type": "stream",
          "name": "stdout",
          "text": [
            "Files already downloaded and verified\n",
            "Files already downloaded and verified\n"
          ]
        }
      ]
    },
    {
      "cell_type": "code",
      "source": [
        "# CIFAR10 데이터셋의 클래스 정의\n",
        "classes = ('plane', 'car', 'bird', 'cat',\n",
        "           'deer', 'dog', 'frog', 'horse', 'ship', 'truck')"
      ],
      "metadata": {
        "id": "070GgEg1v7CG"
      },
      "execution_count": 8,
      "outputs": []
    },
    {
      "cell_type": "code",
      "source": [
        "# 이미지를 화면에 보여주는 함수 정의 (unnormalize)\n",
        "def imshow(img):\n",
        "    img = img / 2 + 0.5     # 정규화된 이미지를 원래 값으로 복원\n",
        "    npimg = img.numpy()\n",
        "    plt.imshow(np.transpose(npimg, (1, 2, 0))) # (C, H, W) -> (H, W, C)로 변환하여 표시\n",
        "    plt.show()\n",
        "\n",
        "\n",
        "# 랜덤 학습 이미지 가져오기\n",
        "dataiter = iter(trainloader)\n",
        "images, labels = next(dataiter)\n",
        "\n",
        "# 이미지를 화면에 보여줌\n",
        "imshow(torchvision.utils.make_grid(images))\n",
        "# 라벨 출력\n",
        "print(' '.join(f'{classes[labels[j]]:5s}' for j in range(batch_size)))"
      ],
      "metadata": {
        "colab": {
          "base_uri": "https://localhost:8080/",
          "height": 211
        },
        "id": "Tu-Nyt_Ov8EN",
        "outputId": "e4be320d-ce62-488d-bf9a-318ad516cdf2"
      },
      "execution_count": 9,
      "outputs": [
        {
          "output_type": "display_data",
          "data": {
            "text/plain": [
              "<Figure size 640x480 with 1 Axes>"
            ],
            "image/png": "[encoded data removed]"
          },
          "metadata": {}
        },
        {
          "output_type": "stream",
          "name": "stdout",
          "text": [
            "horse frog  plane car  \n"
          ]
        }
      ]
    },
    {
      "cell_type": "markdown",
      "source": [
        "### 모델 정의"
      ],
      "metadata": {
        "id": "2Nzc7CQwx4aY"
      }
    },
    {
      "cell_type": "code",
      "source": [
        "# 간단한 선형 분류기 모델 정의\n",
        "class LinearClassifier(nn.Module):\n",
        "    def __init__(self):\n",
        "        super(LinearClassifier, self).__init__()\n",
        "        self.linear = nn.Linear(32 * 32 * 3, 10)  # CIFAR-10 이미지 크기 32x32x3, 출력 10 클래스\n",
        "\n",
        "    def forward(self, x):\n",
        "        x = x.view(-1, 32 * 32 * 3)  # 이미지를 1차원으로 변환\n",
        "        x = self.linear(x)\n",
        "        return x\n",
        "\n",
        "# 모델 초기화\n",
        "model = LinearClassifier()"
      ],
      "metadata": {
        "id": "i_IStVhcx53r"
      },
      "execution_count": 10,
      "outputs": []
    },
    {
      "cell_type": "markdown",
      "source": [
        "### 손실 함수 및 학습률 정의"
      ],
      "metadata": {
        "id": "I3YVfHZrxrS9"
      }
    },
    {
      "cell_type": "code",
      "source": [
        "# 손실 함수 (Softmax + Cross-Entropy Loss)\n",
        "criterion = nn.CrossEntropyLoss()\n",
        "learning_rate = 0.01"
      ],
      "metadata": {
        "id": "IIajoLgZwYVQ"
      },
      "execution_count": 6,
      "outputs": []
    },
    {
      "cell_type": "markdown",
      "source": [
        "### Gradient Descent로 업데이트 하는 학습 함수 정의"
      ],
      "metadata": {
        "id": "QRsW3pFbyyuf"
      }
    },
    {
      "cell_type": "code",
      "source": [
        "def train_model_with_gradient_descent(num_epochs=10):\n",
        "    model.train()  # 모델을 학습 모드로 설정\n",
        "    for epoch in range(num_epochs):\n",
        "        running_loss = 0.0\n",
        "        for i, data in enumerate(trainloader, 0):\n",
        "            inputs, labels = data\n",
        "\n",
        "            # 순전파 (Forward)\n",
        "            outputs = model(inputs)\n",
        "            loss = criterion(outputs, labels)\n",
        "\n",
        "            # 모든 가중치의 기울기(gradient)를 0으로 설정\n",
        "            model.zero_grad()\n",
        "\n",
        "            # 역전파 (Backward)\n",
        "            loss.backward()\n",
        "\n",
        "            # 수동으로 가중치 업데이트 (Gradient Descent)\n",
        "            with torch.no_grad():  # autograd를 끄고 수동으로 업데이트\n",
        "                for param in model.parameters():\n",
        "                    param -= learning_rate * param.grad  # Gradient Descent 업데이트\n",
        "\n",
        "            # 손실 출력\n",
        "            running_loss += loss.item()\n",
        "            if i % 100 == 99:    # 100 미니배치마다 출력\n",
        "                print(f'[Epoch {epoch + 1}, Batch {i + 1}] Loss: {running_loss / 100:.3f}')\n",
        "                running_loss = 0.0\n",
        "    print('Finished Training')"
      ],
      "metadata": {
        "id": "M2QR8SRzxwAW"
      },
      "execution_count": null,
      "outputs": []
    },
    {
      "cell_type": "code",
      "source": [
        "def test_model():\n",
        "    model.eval()  # 평가 모드 설정\n",
        "    correct = 0\n",
        "    total = 0\n",
        "    with torch.no_grad():\n",
        "        for data in testloader:\n",
        "            images, labels = data\n",
        "            outputs = model(images)\n",
        "            _, predicted = torch.max(outputs, 1)\n",
        "            total += labels.size(0)\n",
        "            correct += (predicted == labels).sum().item()\n",
        "\n",
        "    print(f'Accuracy of the network on the 10000 test images: {100 * correct / total:.2f}%')"
      ],
      "metadata": {
        "id": "15tUvQWFy-WW"
      },
      "execution_count": null,
      "outputs": []
    },
    {
      "cell_type": "code",
      "source": [
        "print(\"Training with Gradient Descent\")\n",
        "train_model_with_gradient_descent(num_epochs=5)\n",
        "test_model()"
      ],
      "metadata": {
        "colab": {
          "base_uri": "https://localhost:8080/"
        },
        "id": "hPIerLtwy_-m",
        "outputId": "31210823-b4dc-4b7a-dda8-38f68d585d37"
      },
      "execution_count": null,
      "outputs": [
        {
          "output_type": "stream",
          "name": "stdout",
          "text": [
            "Training with Gradient Descent\n",
            "[Epoch 1, Batch 100] Loss: 2.064\n",
            "[Epoch 1, Batch 200] Loss: 2.144\n",
            "[Epoch 1, Batch 300] Loss: 2.130\n",
            "[Epoch 1, Batch 400] Loss: 2.086\n",
            "[Epoch 1, Batch 500] Loss: 2.048\n",
            "[Epoch 1, Batch 600] Loss: 2.141\n",
            "[Epoch 1, Batch 700] Loss: 2.330\n",
            "[Epoch 1, Batch 800] Loss: 2.184\n",
            "[Epoch 1, Batch 900] Loss: 2.048\n",
            "[Epoch 1, Batch 1000] Loss: 2.194\n",
            "[Epoch 1, Batch 1100] Loss: 2.169\n",
            "[Epoch 1, Batch 1200] Loss: 2.164\n",
            "[Epoch 1, Batch 1300] Loss: 2.064\n",
            "[Epoch 1, Batch 1400] Loss: 2.184\n",
            "[Epoch 1, Batch 1500] Loss: 2.174\n",
            "[Epoch 1, Batch 1600] Loss: 1.950\n",
            "[Epoch 1, Batch 1700] Loss: 2.076\n",
            "[Epoch 1, Batch 1800] Loss: 2.124\n",
            "[Epoch 1, Batch 1900] Loss: 2.162\n",
            "[Epoch 1, Batch 2000] Loss: 2.157\n",
            "[Epoch 1, Batch 2100] Loss: 2.220\n",
            "[Epoch 1, Batch 2200] Loss: 2.113\n",
            "[Epoch 1, Batch 2300] Loss: 2.173\n",
            "[Epoch 1, Batch 2400] Loss: 2.167\n",
            "[Epoch 1, Batch 2500] Loss: 2.242\n",
            "[Epoch 1, Batch 2600] Loss: 2.271\n",
            "[Epoch 1, Batch 2700] Loss: 2.111\n",
            "[Epoch 1, Batch 2800] Loss: 2.036\n",
            "[Epoch 1, Batch 2900] Loss: 2.011\n",
            "[Epoch 1, Batch 3000] Loss: 2.225\n",
            "[Epoch 1, Batch 3100] Loss: 2.101\n",
            "[Epoch 1, Batch 3200] Loss: 2.170\n",
            "[Epoch 1, Batch 3300] Loss: 2.085\n",
            "[Epoch 1, Batch 3400] Loss: 2.136\n",
            "[Epoch 1, Batch 3500] Loss: 2.133\n",
            "[Epoch 1, Batch 3600] Loss: 2.114\n",
            "[Epoch 1, Batch 3700] Loss: 2.218\n",
            "[Epoch 1, Batch 3800] Loss: 2.208\n",
            "[Epoch 1, Batch 3900] Loss: 2.243\n",
            "[Epoch 1, Batch 4000] Loss: 2.020\n",
            "[Epoch 1, Batch 4100] Loss: 2.122\n",
            "[Epoch 1, Batch 4200] Loss: 2.248\n",
            "[Epoch 1, Batch 4300] Loss: 2.325\n",
            "[Epoch 1, Batch 4400] Loss: 2.145\n",
            "[Epoch 1, Batch 4500] Loss: 2.224\n",
            "[Epoch 1, Batch 4600] Loss: 2.085\n",
            "[Epoch 1, Batch 4700] Loss: 2.152\n",
            "[Epoch 1, Batch 4800] Loss: 2.181\n",
            "[Epoch 1, Batch 4900] Loss: 2.096\n",
            "[Epoch 1, Batch 5000] Loss: 2.049\n",
            "[Epoch 1, Batch 5100] Loss: 2.124\n",
            "[Epoch 1, Batch 5200] Loss: 2.115\n",
            "[Epoch 1, Batch 5300] Loss: 2.203\n",
            "[Epoch 1, Batch 5400] Loss: 2.120\n",
            "[Epoch 1, Batch 5500] Loss: 2.117\n",
            "[Epoch 1, Batch 5600] Loss: 2.031\n",
            "[Epoch 1, Batch 5700] Loss: 2.235\n",
            "[Epoch 1, Batch 5800] Loss: 2.177\n",
            "[Epoch 1, Batch 5900] Loss: 2.193\n",
            "[Epoch 1, Batch 6000] Loss: 2.007\n",
            "[Epoch 1, Batch 6100] Loss: 2.070\n",
            "[Epoch 1, Batch 6200] Loss: 2.107\n",
            "[Epoch 1, Batch 6300] Loss: 2.076\n",
            "[Epoch 1, Batch 6400] Loss: 2.176\n",
            "[Epoch 1, Batch 6500] Loss: 2.091\n",
            "[Epoch 1, Batch 6600] Loss: 2.247\n",
            "[Epoch 1, Batch 6700] Loss: 2.120\n",
            "[Epoch 1, Batch 6800] Loss: 2.213\n",
            "[Epoch 1, Batch 6900] Loss: 2.100\n",
            "[Epoch 1, Batch 7000] Loss: 2.064\n",
            "[Epoch 1, Batch 7100] Loss: 2.111\n",
            "[Epoch 1, Batch 7200] Loss: 2.193\n",
            "[Epoch 1, Batch 7300] Loss: 2.129\n",
            "[Epoch 1, Batch 7400] Loss: 2.186\n",
            "[Epoch 1, Batch 7500] Loss: 2.240\n",
            "[Epoch 1, Batch 7600] Loss: 2.232\n",
            "[Epoch 1, Batch 7700] Loss: 2.083\n",
            "[Epoch 1, Batch 7800] Loss: 2.296\n",
            "[Epoch 1, Batch 7900] Loss: 2.129\n",
            "[Epoch 1, Batch 8000] Loss: 2.189\n",
            "[Epoch 1, Batch 8100] Loss: 2.181\n",
            "[Epoch 1, Batch 8200] Loss: 2.013\n",
            "[Epoch 1, Batch 8300] Loss: 2.182\n",
            "[Epoch 1, Batch 8400] Loss: 2.249\n",
            "[Epoch 1, Batch 8500] Loss: 2.133\n",
            "[Epoch 1, Batch 8600] Loss: 2.136\n",
            "[Epoch 1, Batch 8700] Loss: 2.240\n",
            "[Epoch 1, Batch 8800] Loss: 2.177\n",
            "[Epoch 1, Batch 8900] Loss: 2.088\n",
            "[Epoch 1, Batch 9000] Loss: 2.309\n",
            "[Epoch 1, Batch 9100] Loss: 2.209\n",
            "[Epoch 1, Batch 9200] Loss: 2.129\n",
            "[Epoch 1, Batch 9300] Loss: 2.330\n",
            "[Epoch 1, Batch 9400] Loss: 2.237\n",
            "[Epoch 1, Batch 9500] Loss: 2.030\n",
            "[Epoch 1, Batch 9600] Loss: 2.133\n",
            "[Epoch 1, Batch 9700] Loss: 2.097\n",
            "[Epoch 1, Batch 9800] Loss: 2.112\n",
            "[Epoch 1, Batch 9900] Loss: 2.074\n",
            "[Epoch 1, Batch 10000] Loss: 2.165\n",
            "[Epoch 1, Batch 10100] Loss: 2.152\n",
            "[Epoch 1, Batch 10200] Loss: 2.301\n",
            "[Epoch 1, Batch 10300] Loss: 2.249\n",
            "[Epoch 1, Batch 10400] Loss: 2.171\n",
            "[Epoch 1, Batch 10500] Loss: 1.972\n",
            "[Epoch 1, Batch 10600] Loss: 2.170\n",
            "[Epoch 1, Batch 10700] Loss: 2.287\n",
            "[Epoch 1, Batch 10800] Loss: 2.158\n",
            "[Epoch 1, Batch 10900] Loss: 2.126\n",
            "[Epoch 1, Batch 11000] Loss: 2.102\n",
            "[Epoch 1, Batch 11100] Loss: 2.084\n",
            "[Epoch 1, Batch 11200] Loss: 2.184\n",
            "[Epoch 1, Batch 11300] Loss: 2.094\n",
            "[Epoch 1, Batch 11400] Loss: 2.029\n",
            "[Epoch 1, Batch 11500] Loss: 2.265\n",
            "[Epoch 1, Batch 11600] Loss: 2.139\n",
            "[Epoch 1, Batch 11700] Loss: 2.228\n",
            "[Epoch 1, Batch 11800] Loss: 2.239\n",
            "[Epoch 1, Batch 11900] Loss: 2.257\n",
            "[Epoch 1, Batch 12000] Loss: 2.354\n",
            "[Epoch 1, Batch 12100] Loss: 2.231\n",
            "[Epoch 1, Batch 12200] Loss: 2.269\n",
            "[Epoch 1, Batch 12300] Loss: 2.090\n",
            "[Epoch 1, Batch 12400] Loss: 2.145\n",
            "[Epoch 1, Batch 12500] Loss: 2.178\n",
            "[Epoch 2, Batch 100] Loss: 2.169\n",
            "[Epoch 2, Batch 200] Loss: 2.085\n",
            "[Epoch 2, Batch 300] Loss: 1.987\n",
            "[Epoch 2, Batch 400] Loss: 2.140\n",
            "[Epoch 2, Batch 500] Loss: 2.169\n",
            "[Epoch 2, Batch 600] Loss: 2.049\n",
            "[Epoch 2, Batch 700] Loss: 2.008\n",
            "[Epoch 2, Batch 800] Loss: 2.240\n",
            "[Epoch 2, Batch 900] Loss: 2.102\n",
            "[Epoch 2, Batch 1000] Loss: 2.088\n",
            "[Epoch 2, Batch 1100] Loss: 2.052\n",
            "[Epoch 2, Batch 1200] Loss: 1.942\n",
            "[Epoch 2, Batch 1300] Loss: 2.245\n",
            "[Epoch 2, Batch 1400] Loss: 1.975\n",
            "[Epoch 2, Batch 1500] Loss: 1.999\n",
            "[Epoch 2, Batch 1600] Loss: 2.133\n",
            "[Epoch 2, Batch 1700] Loss: 2.145\n",
            "[Epoch 2, Batch 1800] Loss: 2.035\n",
            "[Epoch 2, Batch 1900] Loss: 2.086\n",
            "[Epoch 2, Batch 2000] Loss: 2.189\n",
            "[Epoch 2, Batch 2100] Loss: 2.155\n",
            "[Epoch 2, Batch 2200] Loss: 2.159\n",
            "[Epoch 2, Batch 2300] Loss: 2.107\n",
            "[Epoch 2, Batch 2400] Loss: 2.030\n",
            "[Epoch 2, Batch 2500] Loss: 2.164\n",
            "[Epoch 2, Batch 2600] Loss: 2.131\n",
            "[Epoch 2, Batch 2700] Loss: 2.050\n",
            "[Epoch 2, Batch 2800] Loss: 2.081\n",
            "[Epoch 2, Batch 2900] Loss: 2.114\n",
            "[Epoch 2, Batch 3000] Loss: 2.145\n",
            "[Epoch 2, Batch 3100] Loss: 2.145\n",
            "[Epoch 2, Batch 3200] Loss: 2.009\n",
            "[Epoch 2, Batch 3300] Loss: 2.043\n",
            "[Epoch 2, Batch 3400] Loss: 2.027\n",
            "[Epoch 2, Batch 3500] Loss: 2.195\n",
            "[Epoch 2, Batch 3600] Loss: 2.035\n",
            "[Epoch 2, Batch 3700] Loss: 2.043\n",
            "[Epoch 2, Batch 3800] Loss: 2.121\n",
            "[Epoch 2, Batch 3900] Loss: 2.075\n",
            "[Epoch 2, Batch 4000] Loss: 2.146\n",
            "[Epoch 2, Batch 4100] Loss: 2.119\n",
            "[Epoch 2, Batch 4200] Loss: 2.207\n",
            "[Epoch 2, Batch 4300] Loss: 2.055\n",
            "[Epoch 2, Batch 4400] Loss: 2.069\n",
            "[Epoch 2, Batch 4500] Loss: 2.148\n",
            "[Epoch 2, Batch 4600] Loss: 2.150\n",
            "[Epoch 2, Batch 4700] Loss: 1.987\n",
            "[Epoch 2, Batch 4800] Loss: 2.149\n",
            "[Epoch 2, Batch 4900] Loss: 1.934\n",
            "[Epoch 2, Batch 5000] Loss: 2.061\n",
            "[Epoch 2, Batch 5100] Loss: 2.173\n",
            "[Epoch 2, Batch 5200] Loss: 2.127\n",
            "[Epoch 2, Batch 5300] Loss: 2.016\n",
            "[Epoch 2, Batch 5400] Loss: 2.136\n",
            "[Epoch 2, Batch 5500] Loss: 2.064\n",
            "[Epoch 2, Batch 5600] Loss: 2.239\n",
            "[Epoch 2, Batch 5700] Loss: 2.128\n",
            "[Epoch 2, Batch 5800] Loss: 2.071\n",
            "[Epoch 2, Batch 5900] Loss: 2.095\n",
            "[Epoch 2, Batch 6000] Loss: 2.009\n",
            "[Epoch 2, Batch 6100] Loss: 2.111\n",
            "[Epoch 2, Batch 6200] Loss: 2.043\n",
            "[Epoch 2, Batch 6300] Loss: 2.147\n",
            "[Epoch 2, Batch 6400] Loss: 2.086\n",
            "[Epoch 2, Batch 6500] Loss: 2.138\n",
            "[Epoch 2, Batch 6600] Loss: 2.080\n",
            "[Epoch 2, Batch 6700] Loss: 1.975\n",
            "[Epoch 2, Batch 6800] Loss: 2.184\n",
            "[Epoch 2, Batch 6900] Loss: 2.145\n",
            "[Epoch 2, Batch 7000] Loss: 2.177\n",
            "[Epoch 2, Batch 7100] Loss: 2.171\n",
            "[Epoch 2, Batch 7200] Loss: 2.168\n",
            "[Epoch 2, Batch 7300] Loss: 2.160\n",
            "[Epoch 2, Batch 7400] Loss: 2.017\n",
            "[Epoch 2, Batch 7500] Loss: 2.122\n",
            "[Epoch 2, Batch 7600] Loss: 2.352\n",
            "[Epoch 2, Batch 7700] Loss: 2.118\n",
            "[Epoch 2, Batch 7800] Loss: 1.995\n",
            "[Epoch 2, Batch 7900] Loss: 2.176\n",
            "[Epoch 2, Batch 8000] Loss: 2.042\n",
            "[Epoch 2, Batch 8100] Loss: 2.167\n",
            "[Epoch 2, Batch 8200] Loss: 2.236\n",
            "[Epoch 2, Batch 8300] Loss: 2.222\n",
            "[Epoch 2, Batch 8400] Loss: 2.082\n",
            "[Epoch 2, Batch 8500] Loss: 2.096\n",
            "[Epoch 2, Batch 8600] Loss: 2.216\n",
            "[Epoch 2, Batch 8700] Loss: 2.161\n",
            "[Epoch 2, Batch 8800] Loss: 2.168\n",
            "[Epoch 2, Batch 8900] Loss: 2.187\n",
            "[Epoch 2, Batch 9000] Loss: 2.099\n",
            "[Epoch 2, Batch 9100] Loss: 2.179\n",
            "[Epoch 2, Batch 9200] Loss: 2.180\n",
            "[Epoch 2, Batch 9300] Loss: 2.049\n",
            "[Epoch 2, Batch 9400] Loss: 2.194\n",
            "[Epoch 2, Batch 9500] Loss: 2.168\n",
            "[Epoch 2, Batch 9600] Loss: 1.994\n",
            "[Epoch 2, Batch 9700] Loss: 2.092\n",
            "[Epoch 2, Batch 9800] Loss: 2.156\n",
            "[Epoch 2, Batch 9900] Loss: 2.099\n",
            "[Epoch 2, Batch 10000] Loss: 2.085\n",
            "[Epoch 2, Batch 10100] Loss: 2.004\n",
            "[Epoch 2, Batch 10200] Loss: 2.115\n",
            "[Epoch 2, Batch 10300] Loss: 2.072\n",
            "[Epoch 2, Batch 10400] Loss: 2.396\n",
            "[Epoch 2, Batch 10500] Loss: 2.216\n",
            "[Epoch 2, Batch 10600] Loss: 2.085\n",
            "[Epoch 2, Batch 10700] Loss: 2.153\n",
            "[Epoch 2, Batch 10800] Loss: 2.070\n",
            "[Epoch 2, Batch 10900] Loss: 2.103\n",
            "[Epoch 2, Batch 11000] Loss: 2.081\n",
            "[Epoch 2, Batch 11100] Loss: 2.051\n",
            "[Epoch 2, Batch 11200] Loss: 2.092\n",
            "[Epoch 2, Batch 11300] Loss: 2.220\n",
            "[Epoch 2, Batch 11400] Loss: 2.099\n",
            "[Epoch 2, Batch 11500] Loss: 2.188\n",
            "[Epoch 2, Batch 11600] Loss: 2.076\n",
            "[Epoch 2, Batch 11700] Loss: 2.040\n",
            "[Epoch 2, Batch 11800] Loss: 2.017\n",
            "[Epoch 2, Batch 11900] Loss: 2.251\n",
            "[Epoch 2, Batch 12000] Loss: 2.153\n",
            "[Epoch 2, Batch 12100] Loss: 2.165\n",
            "[Epoch 2, Batch 12200] Loss: 2.104\n",
            "[Epoch 2, Batch 12300] Loss: 2.094\n",
            "[Epoch 2, Batch 12400] Loss: 2.159\n",
            "[Epoch 2, Batch 12500] Loss: 2.233\n",
            "[Epoch 3, Batch 100] Loss: 2.077\n",
            "[Epoch 3, Batch 200] Loss: 1.863\n",
            "[Epoch 3, Batch 300] Loss: 2.043\n",
            "[Epoch 3, Batch 400] Loss: 2.071\n",
            "[Epoch 3, Batch 500] Loss: 1.918\n",
            "[Epoch 3, Batch 600] Loss: 1.972\n",
            "[Epoch 3, Batch 700] Loss: 2.071\n",
            "[Epoch 3, Batch 800] Loss: 2.115\n",
            "[Epoch 3, Batch 900] Loss: 2.170\n",
            "[Epoch 3, Batch 1000] Loss: 2.028\n",
            "[Epoch 3, Batch 1100] Loss: 2.055\n",
            "[Epoch 3, Batch 1200] Loss: 2.085\n",
            "[Epoch 3, Batch 1300] Loss: 2.250\n",
            "[Epoch 3, Batch 1400] Loss: 2.060\n",
            "[Epoch 3, Batch 1500] Loss: 2.127\n",
            "[Epoch 3, Batch 1600] Loss: 2.112\n",
            "[Epoch 3, Batch 1700] Loss: 2.062\n",
            "[Epoch 3, Batch 1800] Loss: 1.955\n",
            "[Epoch 3, Batch 1900] Loss: 2.020\n",
            "[Epoch 3, Batch 2000] Loss: 2.011\n",
            "[Epoch 3, Batch 2100] Loss: 2.059\n",
            "[Epoch 3, Batch 2200] Loss: 2.077\n",
            "[Epoch 3, Batch 2300] Loss: 1.929\n",
            "[Epoch 3, Batch 2400] Loss: 2.053\n",
            "[Epoch 3, Batch 2500] Loss: 2.057\n",
            "[Epoch 3, Batch 2600] Loss: 2.041\n",
            "[Epoch 3, Batch 2700] Loss: 2.135\n",
            "[Epoch 3, Batch 2800] Loss: 1.962\n",
            "[Epoch 3, Batch 2900] Loss: 1.938\n",
            "[Epoch 3, Batch 3000] Loss: 2.157\n",
            "[Epoch 3, Batch 3100] Loss: 2.178\n",
            "[Epoch 3, Batch 3200] Loss: 2.151\n",
            "[Epoch 3, Batch 3300] Loss: 1.986\n",
            "[Epoch 3, Batch 3400] Loss: 2.092\n",
            "[Epoch 3, Batch 3500] Loss: 2.096\n",
            "[Epoch 3, Batch 3600] Loss: 2.061\n",
            "[Epoch 3, Batch 3700] Loss: 2.168\n",
            "[Epoch 3, Batch 3800] Loss: 2.075\n",
            "[Epoch 3, Batch 3900] Loss: 2.002\n",
            "[Epoch 3, Batch 4000] Loss: 2.175\n",
            "[Epoch 3, Batch 4100] Loss: 1.990\n",
            "[Epoch 3, Batch 4200] Loss: 2.235\n",
            "[Epoch 3, Batch 4300] Loss: 2.042\n",
            "[Epoch 3, Batch 4400] Loss: 2.085\n",
            "[Epoch 3, Batch 4500] Loss: 2.048\n",
            "[Epoch 3, Batch 4600] Loss: 2.126\n",
            "[Epoch 3, Batch 4700] Loss: 2.178\n",
            "[Epoch 3, Batch 4800] Loss: 2.019\n",
            "[Epoch 3, Batch 4900] Loss: 2.245\n",
            "[Epoch 3, Batch 5000] Loss: 2.121\n",
            "[Epoch 3, Batch 5100] Loss: 2.007\n",
            "[Epoch 3, Batch 5200] Loss: 2.088\n",
            "[Epoch 3, Batch 5300] Loss: 2.163\n",
            "[Epoch 3, Batch 5400] Loss: 2.193\n",
            "[Epoch 3, Batch 5500] Loss: 1.987\n",
            "[Epoch 3, Batch 5600] Loss: 2.129\n",
            "[Epoch 3, Batch 5700] Loss: 2.246\n",
            "[Epoch 3, Batch 5800] Loss: 2.256\n",
            "[Epoch 3, Batch 5900] Loss: 2.194\n",
            "[Epoch 3, Batch 6000] Loss: 2.126\n",
            "[Epoch 3, Batch 6100] Loss: 2.060\n",
            "[Epoch 3, Batch 6200] Loss: 2.174\n",
            "[Epoch 3, Batch 6300] Loss: 2.301\n",
            "[Epoch 3, Batch 6400] Loss: 2.066\n",
            "[Epoch 3, Batch 6500] Loss: 2.134\n",
            "[Epoch 3, Batch 6600] Loss: 2.081\n",
            "[Epoch 3, Batch 6700] Loss: 2.008\n",
            "[Epoch 3, Batch 6800] Loss: 2.096\n",
            "[Epoch 3, Batch 6900] Loss: 1.984\n",
            "[Epoch 3, Batch 7000] Loss: 2.219\n",
            "[Epoch 3, Batch 7100] Loss: 2.005\n",
            "[Epoch 3, Batch 7200] Loss: 2.023\n",
            "[Epoch 3, Batch 7300] Loss: 2.189\n",
            "[Epoch 3, Batch 7400] Loss: 1.993\n",
            "[Epoch 3, Batch 7500] Loss: 2.241\n",
            "[Epoch 3, Batch 7600] Loss: 1.954\n",
            "[Epoch 3, Batch 7700] Loss: 2.099\n",
            "[Epoch 3, Batch 7800] Loss: 2.087\n",
            "[Epoch 3, Batch 7900] Loss: 2.156\n",
            "[Epoch 3, Batch 8000] Loss: 2.115\n",
            "[Epoch 3, Batch 8100] Loss: 2.027\n",
            "[Epoch 3, Batch 8200] Loss: 2.176\n",
            "[Epoch 3, Batch 8300] Loss: 2.282\n",
            "[Epoch 3, Batch 8400] Loss: 2.272\n",
            "[Epoch 3, Batch 8500] Loss: 2.048\n",
            "[Epoch 3, Batch 8600] Loss: 2.228\n",
            "[Epoch 3, Batch 8700] Loss: 2.003\n",
            "[Epoch 3, Batch 8800] Loss: 2.129\n",
            "[Epoch 3, Batch 8900] Loss: 2.154\n",
            "[Epoch 3, Batch 9000] Loss: 2.124\n",
            "[Epoch 3, Batch 9100] Loss: 2.169\n",
            "[Epoch 3, Batch 9200] Loss: 2.118\n",
            "[Epoch 3, Batch 9300] Loss: 2.063\n",
            "[Epoch 3, Batch 9400] Loss: 2.187\n",
            "[Epoch 3, Batch 9500] Loss: 2.139\n",
            "[Epoch 3, Batch 9600] Loss: 1.969\n",
            "[Epoch 3, Batch 9700] Loss: 2.228\n",
            "[Epoch 3, Batch 9800] Loss: 2.189\n",
            "[Epoch 3, Batch 9900] Loss: 2.179\n",
            "[Epoch 3, Batch 10000] Loss: 2.134\n",
            "[Epoch 3, Batch 10100] Loss: 2.182\n",
            "[Epoch 3, Batch 10200] Loss: 1.996\n",
            "[Epoch 3, Batch 10300] Loss: 2.125\n",
            "[Epoch 3, Batch 10400] Loss: 2.101\n",
            "[Epoch 3, Batch 10500] Loss: 2.096\n",
            "[Epoch 3, Batch 10600] Loss: 2.235\n",
            "[Epoch 3, Batch 10700] Loss: 2.266\n",
            "[Epoch 3, Batch 10800] Loss: 2.010\n",
            "[Epoch 3, Batch 10900] Loss: 2.172\n",
            "[Epoch 3, Batch 11000] Loss: 2.196\n",
            "[Epoch 3, Batch 11100] Loss: 2.270\n",
            "[Epoch 3, Batch 11200] Loss: 1.971\n",
            "[Epoch 3, Batch 11300] Loss: 2.042\n",
            "[Epoch 3, Batch 11400] Loss: 1.996\n",
            "[Epoch 3, Batch 11500] Loss: 2.074\n",
            "[Epoch 3, Batch 11600] Loss: 2.105\n",
            "[Epoch 3, Batch 11700] Loss: 2.016\n",
            "[Epoch 3, Batch 11800] Loss: 2.126\n",
            "[Epoch 3, Batch 11900] Loss: 2.073\n",
            "[Epoch 3, Batch 12000] Loss: 2.085\n",
            "[Epoch 3, Batch 12100] Loss: 2.018\n",
            "[Epoch 3, Batch 12200] Loss: 2.209\n",
            "[Epoch 3, Batch 12300] Loss: 2.301\n",
            "[Epoch 3, Batch 12400] Loss: 1.977\n",
            "[Epoch 3, Batch 12500] Loss: 2.136\n",
            "[Epoch 4, Batch 100] Loss: 2.149\n",
            "[Epoch 4, Batch 200] Loss: 1.880\n",
            "[Epoch 4, Batch 300] Loss: 2.051\n",
            "[Epoch 4, Batch 400] Loss: 2.032\n",
            "[Epoch 4, Batch 500] Loss: 1.946\n",
            "[Epoch 4, Batch 600] Loss: 1.974\n",
            "[Epoch 4, Batch 700] Loss: 2.056\n",
            "[Epoch 4, Batch 800] Loss: 2.022\n",
            "[Epoch 4, Batch 900] Loss: 1.989\n",
            "[Epoch 4, Batch 1000] Loss: 2.080\n",
            "[Epoch 4, Batch 1100] Loss: 2.010\n",
            "[Epoch 4, Batch 1200] Loss: 2.094\n",
            "[Epoch 4, Batch 1300] Loss: 2.023\n",
            "[Epoch 4, Batch 1400] Loss: 2.136\n",
            "[Epoch 4, Batch 1500] Loss: 2.048\n",
            "[Epoch 4, Batch 1600] Loss: 2.084\n",
            "[Epoch 4, Batch 1700] Loss: 2.082\n",
            "[Epoch 4, Batch 1800] Loss: 1.959\n",
            "[Epoch 4, Batch 1900] Loss: 2.035\n",
            "[Epoch 4, Batch 2000] Loss: 2.047\n",
            "[Epoch 4, Batch 2100] Loss: 2.060\n",
            "[Epoch 4, Batch 2200] Loss: 2.266\n",
            "[Epoch 4, Batch 2300] Loss: 2.175\n",
            "[Epoch 4, Batch 2400] Loss: 2.104\n",
            "[Epoch 4, Batch 2500] Loss: 2.187\n",
            "[Epoch 4, Batch 2600] Loss: 2.131\n",
            "[Epoch 4, Batch 2700] Loss: 1.962\n",
            "[Epoch 4, Batch 2800] Loss: 1.891\n",
            "[Epoch 4, Batch 2900] Loss: 2.046\n",
            "[Epoch 4, Batch 3000] Loss: 2.056\n",
            "[Epoch 4, Batch 3100] Loss: 2.078\n",
            "[Epoch 4, Batch 3200] Loss: 2.041\n",
            "[Epoch 4, Batch 3300] Loss: 1.968\n",
            "[Epoch 4, Batch 3400] Loss: 2.141\n",
            "[Epoch 4, Batch 3500] Loss: 2.072\n",
            "[Epoch 4, Batch 3600] Loss: 2.126\n",
            "[Epoch 4, Batch 3700] Loss: 1.922\n",
            "[Epoch 4, Batch 3800] Loss: 2.113\n",
            "[Epoch 4, Batch 3900] Loss: 2.176\n",
            "[Epoch 4, Batch 4000] Loss: 2.089\n",
            "[Epoch 4, Batch 4100] Loss: 2.110\n",
            "[Epoch 4, Batch 4200] Loss: 2.052\n",
            "[Epoch 4, Batch 4300] Loss: 2.051\n",
            "[Epoch 4, Batch 4400] Loss: 2.023\n",
            "[Epoch 4, Batch 4500] Loss: 2.169\n",
            "[Epoch 4, Batch 4600] Loss: 1.950\n",
            "[Epoch 4, Batch 4700] Loss: 2.121\n",
            "[Epoch 4, Batch 4800] Loss: 2.031\n",
            "[Epoch 4, Batch 4900] Loss: 2.142\n",
            "[Epoch 4, Batch 5000] Loss: 2.076\n",
            "[Epoch 4, Batch 5100] Loss: 2.044\n",
            "[Epoch 4, Batch 5200] Loss: 2.116\n",
            "[Epoch 4, Batch 5300] Loss: 2.040\n",
            "[Epoch 4, Batch 5400] Loss: 2.010\n",
            "[Epoch 4, Batch 5500] Loss: 2.078\n",
            "[Epoch 4, Batch 5600] Loss: 2.185\n",
            "[Epoch 4, Batch 5700] Loss: 2.060\n",
            "[Epoch 4, Batch 5800] Loss: 2.109\n",
            "[Epoch 4, Batch 5900] Loss: 1.979\n",
            "[Epoch 4, Batch 6000] Loss: 2.049\n",
            "[Epoch 4, Batch 6100] Loss: 2.100\n",
            "[Epoch 4, Batch 6200] Loss: 2.132\n",
            "[Epoch 4, Batch 6300] Loss: 2.070\n",
            "[Epoch 4, Batch 6400] Loss: 2.292\n",
            "[Epoch 4, Batch 6500] Loss: 2.035\n",
            "[Epoch 4, Batch 6600] Loss: 1.963\n",
            "[Epoch 4, Batch 6700] Loss: 2.019\n",
            "[Epoch 4, Batch 6800] Loss: 2.078\n",
            "[Epoch 4, Batch 6900] Loss: 2.153\n",
            "[Epoch 4, Batch 7000] Loss: 2.223\n",
            "[Epoch 4, Batch 7100] Loss: 2.009\n",
            "[Epoch 4, Batch 7200] Loss: 2.159\n",
            "[Epoch 4, Batch 7300] Loss: 2.112\n",
            "[Epoch 4, Batch 7400] Loss: 2.009\n",
            "[Epoch 4, Batch 7500] Loss: 2.049\n",
            "[Epoch 4, Batch 7600] Loss: 2.114\n",
            "[Epoch 4, Batch 7700] Loss: 1.952\n",
            "[Epoch 4, Batch 7800] Loss: 2.197\n",
            "[Epoch 4, Batch 7900] Loss: 2.132\n",
            "[Epoch 4, Batch 8000] Loss: 2.242\n",
            "[Epoch 4, Batch 8100] Loss: 2.176\n",
            "[Epoch 4, Batch 8200] Loss: 1.863\n",
            "[Epoch 4, Batch 8300] Loss: 2.115\n",
            "[Epoch 4, Batch 8400] Loss: 2.088\n",
            "[Epoch 4, Batch 8500] Loss: 2.033\n",
            "[Epoch 4, Batch 8600] Loss: 2.003\n",
            "[Epoch 4, Batch 8700] Loss: 2.149\n",
            "[Epoch 4, Batch 8800] Loss: 2.192\n",
            "[Epoch 4, Batch 8900] Loss: 2.053\n",
            "[Epoch 4, Batch 9000] Loss: 2.055\n",
            "[Epoch 4, Batch 9100] Loss: 2.071\n",
            "[Epoch 4, Batch 9200] Loss: 2.150\n",
            "[Epoch 4, Batch 9300] Loss: 2.125\n",
            "[Epoch 4, Batch 9400] Loss: 2.079\n",
            "[Epoch 4, Batch 9500] Loss: 2.338\n",
            "[Epoch 4, Batch 9600] Loss: 2.113\n",
            "[Epoch 4, Batch 9700] Loss: 2.063\n",
            "[Epoch 4, Batch 9800] Loss: 2.156\n",
            "[Epoch 4, Batch 9900] Loss: 2.136\n",
            "[Epoch 4, Batch 10000] Loss: 2.102\n",
            "[Epoch 4, Batch 10100] Loss: 2.055\n",
            "[Epoch 4, Batch 10200] Loss: 2.150\n",
            "[Epoch 4, Batch 10300] Loss: 2.194\n",
            "[Epoch 4, Batch 10400] Loss: 2.237\n",
            "[Epoch 4, Batch 10500] Loss: 2.097\n",
            "[Epoch 4, Batch 10600] Loss: 2.264\n",
            "[Epoch 4, Batch 10700] Loss: 2.096\n",
            "[Epoch 4, Batch 10800] Loss: 2.123\n",
            "[Epoch 4, Batch 10900] Loss: 2.092\n",
            "[Epoch 4, Batch 11000] Loss: 2.074\n",
            "[Epoch 4, Batch 11100] Loss: 2.113\n",
            "[Epoch 4, Batch 11200] Loss: 2.162\n",
            "[Epoch 4, Batch 11300] Loss: 2.271\n",
            "[Epoch 4, Batch 11400] Loss: 2.081\n",
            "[Epoch 4, Batch 11500] Loss: 2.057\n",
            "[Epoch 4, Batch 11600] Loss: 2.015\n",
            "[Epoch 4, Batch 11700] Loss: 2.150\n",
            "[Epoch 4, Batch 11800] Loss: 2.062\n",
            "[Epoch 4, Batch 11900] Loss: 2.037\n",
            "[Epoch 4, Batch 12000] Loss: 1.998\n",
            "[Epoch 4, Batch 12100] Loss: 2.231\n",
            "[Epoch 4, Batch 12200] Loss: 1.942\n",
            "[Epoch 4, Batch 12300] Loss: 2.055\n",
            "[Epoch 4, Batch 12400] Loss: 2.073\n",
            "[Epoch 4, Batch 12500] Loss: 1.998\n",
            "[Epoch 5, Batch 100] Loss: 2.138\n",
            "[Epoch 5, Batch 200] Loss: 2.053\n",
            "[Epoch 5, Batch 300] Loss: 2.033\n",
            "[Epoch 5, Batch 400] Loss: 2.033\n",
            "[Epoch 5, Batch 500] Loss: 1.987\n",
            "[Epoch 5, Batch 600] Loss: 2.008\n",
            "[Epoch 5, Batch 700] Loss: 2.058\n",
            "[Epoch 5, Batch 800] Loss: 1.971\n",
            "[Epoch 5, Batch 900] Loss: 2.160\n",
            "[Epoch 5, Batch 1000] Loss: 2.076\n",
            "[Epoch 5, Batch 1100] Loss: 2.044\n",
            "[Epoch 5, Batch 1200] Loss: 2.115\n",
            "[Epoch 5, Batch 1300] Loss: 2.146\n",
            "[Epoch 5, Batch 1400] Loss: 1.924\n",
            "[Epoch 5, Batch 1500] Loss: 2.196\n",
            "[Epoch 5, Batch 1600] Loss: 2.065\n",
            "[Epoch 5, Batch 1700] Loss: 2.019\n",
            "[Epoch 5, Batch 1800] Loss: 2.079\n",
            "[Epoch 5, Batch 1900] Loss: 2.206\n",
            "[Epoch 5, Batch 2000] Loss: 2.043\n",
            "[Epoch 5, Batch 2100] Loss: 2.166\n",
            "[Epoch 5, Batch 2200] Loss: 1.971\n",
            "[Epoch 5, Batch 2300] Loss: 1.915\n",
            "[Epoch 5, Batch 2400] Loss: 1.877\n",
            "[Epoch 5, Batch 2500] Loss: 2.015\n",
            "[Epoch 5, Batch 2600] Loss: 1.966\n",
            "[Epoch 5, Batch 2700] Loss: 1.907\n",
            "[Epoch 5, Batch 2800] Loss: 2.132\n",
            "[Epoch 5, Batch 2900] Loss: 1.896\n",
            "[Epoch 5, Batch 3000] Loss: 2.039\n",
            "[Epoch 5, Batch 3100] Loss: 2.100\n",
            "[Epoch 5, Batch 3200] Loss: 2.044\n",
            "[Epoch 5, Batch 3300] Loss: 2.064\n",
            "[Epoch 5, Batch 3400] Loss: 2.091\n",
            "[Epoch 5, Batch 3500] Loss: 2.129\n",
            "[Epoch 5, Batch 3600] Loss: 2.282\n",
            "[Epoch 5, Batch 3700] Loss: 1.972\n",
            "[Epoch 5, Batch 3800] Loss: 2.187\n",
            "[Epoch 5, Batch 3900] Loss: 2.156\n",
            "[Epoch 5, Batch 4000] Loss: 2.127\n",
            "[Epoch 5, Batch 4100] Loss: 2.111\n",
            "[Epoch 5, Batch 4200] Loss: 2.149\n",
            "[Epoch 5, Batch 4300] Loss: 2.018\n",
            "[Epoch 5, Batch 4400] Loss: 1.966\n",
            "[Epoch 5, Batch 4500] Loss: 2.034\n",
            "[Epoch 5, Batch 4600] Loss: 2.168\n",
            "[Epoch 5, Batch 4700] Loss: 2.177\n",
            "[Epoch 5, Batch 4800] Loss: 2.176\n",
            "[Epoch 5, Batch 4900] Loss: 2.056\n",
            "[Epoch 5, Batch 5000] Loss: 1.902\n",
            "[Epoch 5, Batch 5100] Loss: 2.017\n",
            "[Epoch 5, Batch 5200] Loss: 2.054\n",
            "[Epoch 5, Batch 5300] Loss: 2.084\n",
            "[Epoch 5, Batch 5400] Loss: 2.049\n",
            "[Epoch 5, Batch 5500] Loss: 2.034\n",
            "[Epoch 5, Batch 5600] Loss: 2.056\n",
            "[Epoch 5, Batch 5700] Loss: 2.057\n",
            "[Epoch 5, Batch 5800] Loss: 2.058\n",
            "[Epoch 5, Batch 5900] Loss: 2.060\n",
            "[Epoch 5, Batch 6000] Loss: 2.132\n",
            "[Epoch 5, Batch 6100] Loss: 2.048\n",
            "[Epoch 5, Batch 6200] Loss: 2.139\n",
            "[Epoch 5, Batch 6300] Loss: 2.175\n",
            "[Epoch 5, Batch 6400] Loss: 1.969\n",
            "[Epoch 5, Batch 6500] Loss: 2.013\n",
            "[Epoch 5, Batch 6600] Loss: 2.006\n",
            "[Epoch 5, Batch 6700] Loss: 2.058\n",
            "[Epoch 5, Batch 6800] Loss: 2.034\n",
            "[Epoch 5, Batch 6900] Loss: 2.123\n",
            "[Epoch 5, Batch 7000] Loss: 1.999\n",
            "[Epoch 5, Batch 7100] Loss: 2.156\n",
            "[Epoch 5, Batch 7200] Loss: 1.972\n",
            "[Epoch 5, Batch 7300] Loss: 2.134\n",
            "[Epoch 5, Batch 7400] Loss: 2.078\n",
            "[Epoch 5, Batch 7500] Loss: 1.949\n",
            "[Epoch 5, Batch 7600] Loss: 1.998\n",
            "[Epoch 5, Batch 7700] Loss: 2.060\n",
            "[Epoch 5, Batch 7800] Loss: 2.052\n",
            "[Epoch 5, Batch 7900] Loss: 2.018\n",
            "[Epoch 5, Batch 8000] Loss: 2.019\n",
            "[Epoch 5, Batch 8100] Loss: 2.083\n",
            "[Epoch 5, Batch 8200] Loss: 2.213\n",
            "[Epoch 5, Batch 8300] Loss: 2.152\n",
            "[Epoch 5, Batch 8400] Loss: 2.022\n",
            "[Epoch 5, Batch 8500] Loss: 2.139\n",
            "[Epoch 5, Batch 8600] Loss: 2.054\n",
            "[Epoch 5, Batch 8700] Loss: 2.181\n",
            "[Epoch 5, Batch 8800] Loss: 2.211\n",
            "[Epoch 5, Batch 8900] Loss: 2.008\n",
            "[Epoch 5, Batch 9000] Loss: 2.084\n",
            "[Epoch 5, Batch 9100] Loss: 1.913\n",
            "[Epoch 5, Batch 9200] Loss: 1.928\n",
            "[Epoch 5, Batch 9300] Loss: 2.071\n",
            "[Epoch 5, Batch 9400] Loss: 2.178\n",
            "[Epoch 5, Batch 9500] Loss: 2.124\n",
            "[Epoch 5, Batch 9600] Loss: 2.235\n",
            "[Epoch 5, Batch 9700] Loss: 2.113\n",
            "[Epoch 5, Batch 9800] Loss: 2.123\n",
            "[Epoch 5, Batch 9900] Loss: 2.080\n",
            "[Epoch 5, Batch 10000] Loss: 2.167\n",
            "[Epoch 5, Batch 10100] Loss: 1.982\n",
            "[Epoch 5, Batch 10200] Loss: 2.136\n",
            "[Epoch 5, Batch 10300] Loss: 2.249\n",
            "[Epoch 5, Batch 10400] Loss: 2.110\n",
            "[Epoch 5, Batch 10500] Loss: 2.197\n",
            "[Epoch 5, Batch 10600] Loss: 2.041\n",
            "[Epoch 5, Batch 10700] Loss: 1.918\n",
            "[Epoch 5, Batch 10800] Loss: 2.118\n",
            "[Epoch 5, Batch 10900] Loss: 2.058\n",
            "[Epoch 5, Batch 11000] Loss: 2.190\n",
            "[Epoch 5, Batch 11100] Loss: 2.141\n",
            "[Epoch 5, Batch 11200] Loss: 2.192\n",
            "[Epoch 5, Batch 11300] Loss: 2.120\n",
            "[Epoch 5, Batch 11400] Loss: 2.007\n",
            "[Epoch 5, Batch 11500] Loss: 2.192\n",
            "[Epoch 5, Batch 11600] Loss: 1.990\n",
            "[Epoch 5, Batch 11700] Loss: 2.175\n",
            "[Epoch 5, Batch 11800] Loss: 2.287\n",
            "[Epoch 5, Batch 11900] Loss: 2.139\n",
            "[Epoch 5, Batch 12000] Loss: 2.063\n",
            "[Epoch 5, Batch 12100] Loss: 2.002\n",
            "[Epoch 5, Batch 12200] Loss: 2.115\n",
            "[Epoch 5, Batch 12300] Loss: 2.123\n",
            "[Epoch 5, Batch 12400] Loss: 2.157\n",
            "[Epoch 5, Batch 12500] Loss: 2.217\n",
            "Finished Training\n",
            "Accuracy of the network on the 10000 test images: 31.74%\n"
          ]
        }
      ]
    },
    {
      "cell_type": "markdown",
      "source": [
        "### Stochastic Gradient Descent (SGD)\n",
        "장점: 빠르게 기울기를 계산하고, 큰 데이터셋에서도 효율적입니다.   \n",
        "단점: 기울기의 노이즈가 커서 손실 함수가 급격하게 진동할 수 있으며, 안정적으로 수렴하는 데 시간이 걸릴 수 있습니다."
      ],
      "metadata": {
        "id": "ii_w4we4MEQB"
      }
    },
    {
      "cell_type": "code",
      "source": [
        "\n",
        "# 배치 사이즈 설정\n",
        "batch_size = 4\n",
        "\n",
        "# CIFAR10 학습 데이터셋 로드 (이미지 변환 적용)\n",
        "trainset = torchvision.datasets.CIFAR10(root='./data', train=True,\n",
        "                                        download=True, transform=transform)\n",
        "# 학습 데이터 로더 설정\n",
        "trainloader = torch.utils.data.DataLoader(trainset, batch_size=batch_size,\n",
        "                                          shuffle=True, num_workers=2)\n",
        "\n",
        "# CIFAR10 테스트 데이터셋 로드 (이미지 변환 적용)\n",
        "testset = torchvision.datasets.CIFAR10(root='./data', train=False,\n",
        "                                       download=True, transform=transform)\n",
        "# 테스트 데이터 로더 설정\n",
        "testloader = torch.utils.data.DataLoader(testset, batch_size=batch_size,\n",
        "                                         shuffle=False, num_workers=2)"
      ],
      "metadata": {
        "id": "xsqNtbK-XUVH"
      },
      "execution_count": null,
      "outputs": []
    },
    {
      "cell_type": "code",
      "source": [
        "# SGD 옵티마이저 설정\n",
        "optimizer = optim.SGD(model.parameters(), lr=0.01)"
      ],
      "metadata": {
        "id": "Zd4ANat2zBqT"
      },
      "execution_count": 56,
      "outputs": []
    },
    {
      "cell_type": "markdown",
      "source": [
        "### SGD로 업데이트 하는 학습 함수 정의"
      ],
      "metadata": {
        "id": "ziLcHDZoMkpX"
      }
    },
    {
      "cell_type": "code",
      "source": [
        "def train_model_with_sgd(num_epochs=10):\n",
        "    model.train()  # 모델을 학습 모드로 설정\n",
        "    for epoch in range(num_epochs):\n",
        "        running_loss = 0.0\n",
        "        for i, data in enumerate(trainloader, 0):\n",
        "            inputs, labels = data\n",
        "\n",
        "            # 순전파 (Forward)\n",
        "            outputs = model(inputs)\n",
        "            loss = criterion(outputs, labels)\n",
        "\n",
        "            # 모든 가중치의 기울기(gradient)를 0으로 설정\n",
        "            optimizer.zero_grad()\n",
        "\n",
        "            # 역전파 (Backward)\n",
        "            loss.backward()\n",
        "\n",
        "            # 파라미터 업데이트\n",
        "            optimizer.step()\n",
        "\n",
        "            # 손실 출력\n",
        "            running_loss += loss.item()\n",
        "            if i % 100 == 99:    # 100 미니배치마다 출력\n",
        "                print(f'[Epoch {epoch + 1}, Batch {i + 1}] Loss: {running_loss / 100:.3f}')\n",
        "                running_loss = 0.0\n",
        "    print('Finished Training')"
      ],
      "metadata": {
        "id": "7YYhxZPAMQJZ"
      },
      "execution_count": null,
      "outputs": []
    },
    {
      "cell_type": "markdown",
      "source": [
        "### SGD + Momentum\n",
        "진동 감소와 빠른 수렴이 가능합니다.  \n",
        "급격한 진동을 억제하고 안정된 학습 진행이 가능합니다.  \n",
        "평탄한 방향에서의 학습 가속을 할 수 있습니다.  \n",
        "지역 최솟값에 갇히는 것 방지가 가능합니다."
      ],
      "metadata": {
        "id": "gbidc2y4NLiq"
      }
    },
    {
      "cell_type": "code",
      "source": [
        "# Momentum을 포함한 SGD 설정\n",
        "optimizer = optim.SGD(model.parameters(), lr=0.01, momentum=0.9)"
      ],
      "metadata": {
        "id": "gfidNaTVOHaO"
      },
      "execution_count": 57,
      "outputs": []
    },
    {
      "cell_type": "code",
      "source": [
        "def train_model_with_momentum(num_epochs=10):\n",
        "    model.train()  # 모델을 학습 모드로 설정\n",
        "    for epoch in range(num_epochs):\n",
        "        running_loss = 0.0\n",
        "        for i, data in enumerate(trainloader, 0):\n",
        "            inputs, labels = data\n",
        "\n",
        "            # 순전파 (Forward)\n",
        "            outputs = model(inputs)\n",
        "            loss = criterion(outputs, labels)\n",
        "\n",
        "            # 모든 가중치의 기울기(gradient)를 0으로 설정\n",
        "            optimizer.zero_grad()\n",
        "\n",
        "            # 역전파 (Backward)\n",
        "            loss.backward()\n",
        "\n",
        "            # 파라미터 업데이트\n",
        "            optimizer.step()\n",
        "\n",
        "            # 손실 출력\n",
        "            running_loss += loss.item()\n",
        "            if i % 100 == 99:    # 100 미니배치마다 출력\n",
        "                print(f'[Epoch {epoch + 1}, Batch {i + 1}] Loss: {running_loss / 100:.3f}')\n",
        "                running_loss = 0.0\n",
        "    print('Finished Training')"
      ],
      "metadata": {
        "id": "Sj-cOfnuOOiQ"
      },
      "execution_count": null,
      "outputs": []
    },
    {
      "cell_type": "markdown",
      "source": [
        "### Adam Optimizer\n",
        "장점: 적응형 학습률 덕분에 학습이 더 빠르고, 지역 최솟값에 갇히는 문제를 완화할 수 있음  \n",
        " 모멘트의 활용으로 기울기 진동을 줄여 안정적인 학습이 가능\n",
        "\n",
        "단점: 복잡한 최적화 문제에서는 간혹 과적합이나 학습이 불안정할 수 있어, 학습률을 신중히 조정해야 함"
      ],
      "metadata": {
        "id": "HjYKhtbcPbsR"
      }
    },
    {
      "cell_type": "code",
      "source": [
        "# Adam 옵티마이저 설정\n",
        "optimizer = optim.Adam(model.parameters(), lr=0.001)"
      ],
      "metadata": {
        "id": "C30lZVTfPo0W"
      },
      "execution_count": 58,
      "outputs": []
    },
    {
      "cell_type": "code",
      "source": [
        "def train_model_with_adam(num_epochs=10):\n",
        "    model.train()  # 모델을 학습 모드로 설정\n",
        "    for epoch in range(num_epochs):\n",
        "        running_loss = 0.0\n",
        "        for i, data in enumerate(trainloader, 0):\n",
        "            inputs, labels = data\n",
        "\n",
        "            # 순전파 (Forward)\n",
        "            outputs = model(inputs)\n",
        "            loss = criterion(outputs, labels)\n",
        "\n",
        "            # 모든 가중치의 기울기(gradient)를 0으로 설정\n",
        "            optimizer.zero_grad()\n",
        "\n",
        "            # 역전파 (Backward)\n",
        "            loss.backward()\n",
        "\n",
        "            # 파라미터 업데이트\n",
        "            optimizer.step()\n",
        "\n",
        "            # 손실 출력\n",
        "            running_loss += loss.item()\n",
        "            if i % 100 == 99:    # 100 미니배치마다 출력\n",
        "                print(f'[Epoch {epoch + 1}, Batch {i + 1}] Loss: {running_loss / 100:.3f}')\n",
        "                running_loss = 0.0\n",
        "    print('Finished Training')"
      ],
      "metadata": {
        "id": "xL_B9QhkPrdN"
      },
      "execution_count": null,
      "outputs": []
    },
    {
      "cell_type": "markdown",
      "source": [
        "### RMSprop Optimizer\n",
        "장점:기울기가 크거나 작은 방향에서 학습률을 자동으로 조정하므로, 학습이 더 효율적이고 안정적임    \n",
        "   AdaGrad와 달리 학습이 진행되면서 학습 속도가 지나치게 감소하지 않도록 설계되어 있음\n",
        "\n",
        " 단점:학습률을 신중하게 설정해야 함\n",
        "     적절한 학습률을 선택하지 않으면 수렴 속도가 느리거나 학습이 불안정할 수 있음"
      ],
      "metadata": {
        "id": "OcsQAqW4RfNW"
      }
    },
    {
      "cell_type": "code",
      "source": [
        "# RMSprop 옵티마이저 설정\n",
        "optimizer = optim.RMSprop(model.parameters(), lr=0.001)"
      ],
      "metadata": {
        "id": "HUWzuzxcRe-P"
      },
      "execution_count": 59,
      "outputs": []
    },
    {
      "cell_type": "code",
      "source": [
        "def train_model_with_rnsprop(num_epochs=10):\n",
        "    model.train()  # 모델을 학습 모드로 설정\n",
        "    for epoch in range(num_epochs):\n",
        "        running_loss = 0.0\n",
        "        for i, data in enumerate(trainloader, 0):\n",
        "            inputs, labels = data\n",
        "\n",
        "            # 순전파 (Forward)\n",
        "            outputs = model(inputs)\n",
        "            loss = criterion(outputs, labels)\n",
        "\n",
        "            # 모든 가중치의 기울기(gradient)를 0으로 설정\n",
        "            optimizer.zero_grad()\n",
        "\n",
        "            # 역전파 (Backward)\n",
        "            loss.backward()\n",
        "\n",
        "            # 파라미터 업데이트\n",
        "            optimizer.step()\n",
        "\n",
        "            # 손실 출력\n",
        "            running_loss += loss.item()\n",
        "            if i % 100 == 99:    # 100 미니배치마다 출력\n",
        "                print(f'[Epoch {epoch + 1}, Batch {i + 1}] Loss: {running_loss / 100:.3f}')\n",
        "                running_loss = 0.0\n",
        "    print('Finished Training')"
      ],
      "metadata": {
        "id": "Xpsdr93QRexl"
      },
      "execution_count": 60,
      "outputs": []
    },
    {
      "cell_type": "markdown",
      "source": [
        "다양한 optimizer에 대해 loss 및 성능 비교"
      ],
      "metadata": {
        "id": "6hGUZuenS2dE"
      }
    },
    {
      "cell_type": "code",
      "source": [
        "# 옵티마이저를 생성하는 함수를 정의 (모델을 인자로 받아 새로운 옵티마이저 생성)\n",
        "def get_optimizer(name, model):\n",
        "    if name == 'SGD':\n",
        "        return optim.SGD(model.parameters(), lr=0.01)\n",
        "    elif name == 'SGD+Momentum':\n",
        "        return optim.SGD(model.parameters(), lr=0.01, momentum=0.9)\n",
        "    elif name == 'Adam':\n",
        "        return optim.Adam(model.parameters(), lr=0.001)\n",
        "    elif name == 'RMSprop':\n",
        "        return optim.RMSprop(model.parameters(), lr=0.001)\n",
        "\n",
        "# 학습 및 테스트 함수 정의\n",
        "def train_model(optimizer, model, num_epochs=10):\n",
        "    model.train()  # 학습 모드 설정\n",
        "    train_loss_history = []\n",
        "    test_acc_history = []\n",
        "\n",
        "    for epoch in range(num_epochs):\n",
        "        running_loss = 0.0\n",
        "        for i, data in enumerate(trainloader, 0):\n",
        "            inputs, labels = data\n",
        "\n",
        "            optimizer.zero_grad()  # 기울기 초기화\n",
        "            outputs = model(inputs)  # 순전파\n",
        "            loss = criterion(outputs, labels)  # 손실 계산\n",
        "            loss.backward()  # 역전파\n",
        "            optimizer.step()  # 가중치 업데이트\n",
        "\n",
        "            running_loss += loss.item()\n",
        "        avg_loss = running_loss / len(trainloader)\n",
        "        train_loss_history.append(avg_loss)\n",
        "\n",
        "        # 테스트 정확도 평가\n",
        "        test_acc = test_model(model)\n",
        "        test_acc_history.append(test_acc)\n",
        "\n",
        "        print(f'Epoch [{epoch+1}/{num_epochs}], Loss: {avg_loss:.4f}, Test Accuracy: {test_acc:.2f}%')\n",
        "\n",
        "    return train_loss_history, test_acc_history\n",
        "\n",
        "def test_model(model):\n",
        "    model.eval()  # 평가 모드 설정\n",
        "    correct = 0\n",
        "    total = 0\n",
        "    with torch.no_grad():\n",
        "        for data in testloader:\n",
        "            images, labels = data\n",
        "            outputs = model(images)\n",
        "            _, predicted = torch.max(outputs, 1)\n",
        "            total += labels.size(0)\n",
        "            correct += (predicted == labels).sum().item()\n",
        "\n",
        "    accuracy = 100 * correct / total\n",
        "    return accuracy"
      ],
      "metadata": {
        "id": "JSdvF8iwRweW"
      },
      "execution_count": 18,
      "outputs": []
    },
    {
      "cell_type": "code",
      "source": [
        "# 옵티마이저 별로 학습 및 테스트 실행\n",
        "num_epochs = 10\n",
        "results = {}\n",
        "\n",
        "optimizer_names = ['SGD', 'SGD+Momentum', 'Adam', 'RMSprop']\n",
        "\n",
        "for name in optimizer_names:\n",
        "    print(f'\\nTraining with {name} Optimizer')\n",
        "    model = LinearClassifier()  # 매번 새로운 모델로 초기화\n",
        "    optimizer = get_optimizer(name, model)  # 옵티마이저를 매번 새로 생성\n",
        "\n",
        "    train_loss, test_acc = train_model(optimizer, model, num_epochs)\n",
        "    results[name] = {\n",
        "        'loss': train_loss,\n",
        "        'accuracy': test_acc\n",
        "    }\n"
      ],
      "metadata": {
        "colab": {
          "base_uri": "https://localhost:8080/"
        },
        "id": "8B3_n9zRS5bQ",
        "outputId": "d0228947-7061-4460-9179-1f099471a803"
      },
      "execution_count": 8,
      "outputs": [
        {
          "output_type": "stream",
          "name": "stdout",
          "text": [
            "\n",
            "Training with SGD Optimizer\n",
            "Epoch [1/10], Loss: 1.8432, Test Accuracy: 38.57%\n",
            "Epoch [2/10], Loss: 1.7569, Test Accuracy: 39.23%\n",
            "Epoch [3/10], Loss: 1.7280, Test Accuracy: 39.40%\n",
            "Epoch [4/10], Loss: 1.7107, Test Accuracy: 40.28%\n",
            "Epoch [5/10], Loss: 1.7004, Test Accuracy: 39.01%\n",
            "Epoch [6/10], Loss: 1.6912, Test Accuracy: 40.16%\n",
            "Epoch [7/10], Loss: 1.6847, Test Accuracy: 40.27%\n",
            "Epoch [8/10], Loss: 1.6782, Test Accuracy: 38.82%\n",
            "Epoch [9/10], Loss: 1.6740, Test Accuracy: 40.36%\n",
            "Epoch [10/10], Loss: 1.6710, Test Accuracy: 39.44%\n",
            "\n",
            "Training with SGD+Momentum Optimizer\n",
            "Epoch [1/10], Loss: 1.9762, Test Accuracy: 34.45%\n",
            "Epoch [2/10], Loss: 1.9068, Test Accuracy: 34.84%\n",
            "Epoch [3/10], Loss: 1.8891, Test Accuracy: 36.41%\n",
            "Epoch [4/10], Loss: 1.8832, Test Accuracy: 36.66%\n",
            "Epoch [5/10], Loss: 1.8705, Test Accuracy: 35.13%\n",
            "Epoch [6/10], Loss: 1.8653, Test Accuracy: 34.04%\n",
            "Epoch [7/10], Loss: 1.8739, Test Accuracy: 34.18%\n",
            "Epoch [8/10], Loss: 1.8509, Test Accuracy: 35.49%\n",
            "Epoch [9/10], Loss: 1.8473, Test Accuracy: 34.70%\n",
            "Epoch [10/10], Loss: 1.8531, Test Accuracy: 34.76%\n",
            "\n",
            "Training with Adam Optimizer\n",
            "Epoch [1/10], Loss: 1.8667, Test Accuracy: 36.45%\n",
            "Epoch [2/10], Loss: 1.7972, Test Accuracy: 38.37%\n",
            "Epoch [3/10], Loss: 1.7766, Test Accuracy: 38.81%\n",
            "Epoch [4/10], Loss: 1.7633, Test Accuracy: 37.00%\n",
            "Epoch [5/10], Loss: 1.7536, Test Accuracy: 36.35%\n",
            "Epoch [6/10], Loss: 1.7435, Test Accuracy: 38.42%\n",
            "Epoch [7/10], Loss: 1.7397, Test Accuracy: 38.20%\n",
            "Epoch [8/10], Loss: 1.7333, Test Accuracy: 37.45%\n",
            "Epoch [9/10], Loss: 1.7316, Test Accuracy: 37.05%\n",
            "Epoch [10/10], Loss: 1.7287, Test Accuracy: 37.17%\n",
            "\n",
            "Training with RMSprop Optimizer\n",
            "Epoch [1/10], Loss: 1.9235, Test Accuracy: 29.81%\n",
            "Epoch [2/10], Loss: 1.8253, Test Accuracy: 34.40%\n",
            "Epoch [3/10], Loss: 1.8013, Test Accuracy: 37.26%\n",
            "Epoch [4/10], Loss: 1.7914, Test Accuracy: 32.74%\n",
            "Epoch [5/10], Loss: 1.7859, Test Accuracy: 35.35%\n",
            "Epoch [6/10], Loss: 1.7735, Test Accuracy: 31.83%\n",
            "Epoch [7/10], Loss: 1.7696, Test Accuracy: 32.07%\n",
            "Epoch [8/10], Loss: 1.7659, Test Accuracy: 34.94%\n",
            "Epoch [9/10], Loss: 1.7617, Test Accuracy: 36.06%\n",
            "Epoch [10/10], Loss: 1.7552, Test Accuracy: 32.68%\n"
          ]
        }
      ]
    },
    {
      "cell_type": "code",
      "source": [
        "# 6. 손실(Loss) 및 정확도(Accuracy) 그래프 출력\n",
        "plt.figure(figsize=(14, 6))"
      ],
      "metadata": {
        "id": "X2RAtPzqTCSd"
      },
      "execution_count": null,
      "outputs": []
    },
    {
      "cell_type": "code",
      "source": [
        "# Loss 그래프\n",
        "plt.subplot(1, 2, 1)\n",
        "for name in results:\n",
        "    plt.plot(results[name]['loss'], label=f'{name} Loss')\n",
        "plt.title('Training Loss over Epochs')\n",
        "plt.xlabel('Epoch')\n",
        "plt.ylabel('Loss')\n",
        "plt.legend()\n",
        "\n",
        "# Accuracy 그래프\n",
        "plt.subplot(1, 2, 2)\n",
        "for name in results:\n",
        "    plt.plot(results[name]['accuracy'], label=f'{name} Accuracy')\n",
        "plt.title('Test Accuracy over Epochs')\n",
        "plt.xlabel('Epoch')\n",
        "plt.ylabel('Accuracy (%)')\n",
        "plt.legend()\n",
        "\n",
        "plt.show()"
      ],
      "metadata": {
        "colab": {
          "base_uri": "https://localhost:8080/",
          "height": 472
        },
        "id": "_GJP5jKRYHy0",
        "outputId": "b8af049c-253c-4b42-ce88-1377e7624786"
      },
      "execution_count": 9,
      "outputs": [
        {
          "output_type": "display_data",
          "data": {
            "text/plain": [
              "<Figure size 640x480 with 2 Axes>"
            ],
            "image/png": "[encoded data removed]"
          },
          "metadata": {}
        }
      ]
    },
    {
      "cell_type": "markdown",
      "source": [
        "### GPU 설정"
      ],
      "metadata": {
        "id": "8mrIj_hJXevu"
      }
    },
    {
      "cell_type": "code",
      "source": [
        "# 모델 초기화\n",
        "model = LinearClassifier()\n",
        "\n",
        "# model.cuda()\n",
        "\n",
        "device = torch.device('cuda' if torch.cuda.is_available() else 'cpu')\n",
        "model = model.to(device)"
      ],
      "metadata": {
        "id": "mam44QYzXeH4"
      },
      "execution_count": 11,
      "outputs": []
    },
    {
      "cell_type": "code",
      "source": [
        "print(device)"
      ],
      "metadata": {
        "colab": {
          "base_uri": "https://localhost:8080/"
        },
        "id": "gcoXEGa5aNF1",
        "outputId": "053513aa-67a7-4d0a-b635-bdef53904166"
      },
      "execution_count": 12,
      "outputs": [
        {
          "output_type": "stream",
          "name": "stdout",
          "text": [
            "cuda\n"
          ]
        }
      ]
    },
    {
      "cell_type": "code",
      "source": [
        "# 손실 함수 (Softmax + Cross-Entropy Loss)\n",
        "criterion = nn.CrossEntropyLoss().to(device)"
      ],
      "metadata": {
        "id": "-PUUBw8TYprN"
      },
      "execution_count": 13,
      "outputs": []
    },
    {
      "cell_type": "code",
      "source": [
        "# 최적화 선언\n",
        "optimizer = optim.SGD(model.parameters(), lr=0.01)"
      ],
      "metadata": {
        "id": "Tey_zv0HZZiU"
      },
      "execution_count": 15,
      "outputs": []
    },
    {
      "cell_type": "code",
      "source": [
        "def train_model(optimizer, model, num_epochs=10):\n",
        "    model.train()  # 학습 모드 설정\n",
        "    train_loss_history = []\n",
        "    test_acc_history = []\n",
        "\n",
        "    for epoch in range(num_epochs):\n",
        "        running_loss = 0.0\n",
        "        for i, data in enumerate(trainloader, 0):\n",
        "            inputs, labels = data\n",
        "\n",
        "            inputs = inputs.to(device)\n",
        "            labels = labels.to(device)\n",
        "\n",
        "            optimizer.zero_grad()  # 기울기 초기화\n",
        "            outputs = model(inputs)  # 순전파\n",
        "            loss = criterion(outputs, labels)  # 손실 계산\n",
        "            loss.backward()  # 역전파\n",
        "            optimizer.step()  # 가중치 업데이트\n",
        "\n",
        "            running_loss += loss.item()\n",
        "        avg_loss = running_loss / len(trainloader)\n",
        "        train_loss_history.append(avg_loss)\n",
        "\n",
        "        # 테스트 정확도 평가\n",
        "        test_acc = test_model(model)\n",
        "        test_acc_history.append(test_acc)\n",
        "\n",
        "        print(f'Epoch [{epoch+1}/{num_epochs}], Loss: {avg_loss:.4f}, Test Accuracy: {test_acc:.2f}%')\n",
        "\n",
        "    return train_loss_history, test_acc_history"
      ],
      "metadata": {
        "id": "R3ltH1rIYx1z"
      },
      "execution_count": 23,
      "outputs": []
    },
    {
      "cell_type": "code",
      "source": [
        "train_loss, test_acc = train_model(optimizer, model)"
      ],
      "metadata": {
        "colab": {
          "base_uri": "https://localhost:8080/",
          "height": 314
        },
        "id": "ctXfehV1Z0ih",
        "outputId": "26f82365-1150-4659-e925-51fbb56c6291"
      },
      "execution_count": 19,
      "outputs": [
        {
          "output_type": "error",
          "ename": "RuntimeError",
          "evalue": "Expected all tensors to be on the same device, but found at least two devices, cuda:0 and cpu! (when checking argument for argument mat1 in method wrapper_CUDA_addmm)",
          "traceback": [
            "\u001b[0;31m---------------------------------------------------------------------------\u001b[0m",
            "\u001b[0;31mRuntimeError\u001b[0m                              Traceback (most recent call last)",
            "\u001b[0;32m<ipython-input-19-11000afaa4d1>\u001b[0m in \u001b[0;36m<cell line: 1>\u001b[0;34m()\u001b[0m\n\u001b[0;32m----> 1\u001b[0;31m \u001b[0mtrain_loss\u001b[0m\u001b[0;34m,\u001b[0m \u001b[0mtest_acc\u001b[0m \u001b[0;34m=\u001b[0m \u001b[0mtrain_model\u001b[0m\u001b[0;34m(\u001b[0m\u001b[0moptimizer\u001b[0m\u001b[0;34m,\u001b[0m \u001b[0mmodel\u001b[0m\u001b[0;34m)\u001b[0m\u001b[0;34m\u001b[0m\u001b[0;34m\u001b[0m\u001b[0m\n\u001b[0m",
            "\u001b[0;32m<ipython-input-18-d9dae2f81362>\u001b[0m in \u001b[0;36mtrain_model\u001b[0;34m(optimizer, model, num_epochs)\u001b[0m\n\u001b[1;32m     22\u001b[0m \u001b[0;34m\u001b[0m\u001b[0m\n\u001b[1;32m     23\u001b[0m             \u001b[0moptimizer\u001b[0m\u001b[0;34m.\u001b[0m\u001b[0mzero_grad\u001b[0m\u001b[0;34m(\u001b[0m\u001b[0;34m)\u001b[0m  \u001b[0;31m# 기울기 초기화\u001b[0m\u001b[0;34m\u001b[0m\u001b[0;34m\u001b[0m\u001b[0m\n\u001b[0;32m---> 24\u001b[0;31m             \u001b[0moutputs\u001b[0m \u001b[0;34m=\u001b[0m \u001b[0mmodel\u001b[0m\u001b[0;34m(\u001b[0m\u001b[0minputs\u001b[0m\u001b[0;34m)\u001b[0m  \u001b[0;31m# 순전파\u001b[0m\u001b[0;34m\u001b[0m\u001b[0;34m\u001b[0m\u001b[0m\n\u001b[0m\u001b[1;32m     25\u001b[0m             \u001b[0mloss\u001b[0m \u001b[0;34m=\u001b[0m \u001b[0mcriterion\u001b[0m\u001b[0;34m(\u001b[0m\u001b[0moutputs\u001b[0m\u001b[0;34m,\u001b[0m \u001b[0mlabels\u001b[0m\u001b[0;34m)\u001b[0m  \u001b[0;31m# 손실 계산\u001b[0m\u001b[0;34m\u001b[0m\u001b[0;34m\u001b[0m\u001b[0m\n\u001b[1;32m     26\u001b[0m             \u001b[0mloss\u001b[0m\u001b[0;34m.\u001b[0m\u001b[0mbackward\u001b[0m\u001b[0;34m(\u001b[0m\u001b[0;34m)\u001b[0m  \u001b[0;31m# 역전파\u001b[0m\u001b[0;34m\u001b[0m\u001b[0;34m\u001b[0m\u001b[0m\n",
            "\u001b[0;32m/usr/local/lib/python3.10/dist-packages/torch/nn/modules/module.py\u001b[0m in \u001b[0;36m_wrapped_call_impl\u001b[0;34m(self, *args, **kwargs)\u001b[0m\n\u001b[1;32m   1551\u001b[0m             \u001b[0;32mreturn\u001b[0m \u001b[0mself\u001b[0m\u001b[0;34m.\u001b[0m\u001b[0m_compiled_call_impl\u001b[0m\u001b[0;34m(\u001b[0m\u001b[0;34m*\u001b[0m\u001b[0margs\u001b[0m\u001b[0;34m,\u001b[0m \u001b[0;34m**\u001b[0m\u001b[0mkwargs\u001b[0m\u001b[0;34m)\u001b[0m  \u001b[0;31m# type: ignore[misc]\u001b[0m\u001b[0;34m\u001b[0m\u001b[0;34m\u001b[0m\u001b[0m\n\u001b[1;32m   1552\u001b[0m         \u001b[0;32melse\u001b[0m\u001b[0;34m:\u001b[0m\u001b[0;34m\u001b[0m\u001b[0;34m\u001b[0m\u001b[0m\n\u001b[0;32m-> 1553\u001b[0;31m             \u001b[0;32mreturn\u001b[0m \u001b[0mself\u001b[0m\u001b[0;34m.\u001b[0m\u001b[0m_call_impl\u001b[0m\u001b[0;34m(\u001b[0m\u001b[0;34m*\u001b[0m\u001b[0margs\u001b[0m\u001b[0;34m,\u001b[0m \u001b[0;34m**\u001b[0m\u001b[0mkwargs\u001b[0m\u001b[0;34m)\u001b[0m\u001b[0;34m\u001b[0m\u001b[0;34m\u001b[0m\u001b[0m\n\u001b[0m\u001b[1;32m   1554\u001b[0m \u001b[0;34m\u001b[0m\u001b[0m\n\u001b[1;32m   1555\u001b[0m     \u001b[0;32mdef\u001b[0m \u001b[0m_call_impl\u001b[0m\u001b[0;34m(\u001b[0m\u001b[0mself\u001b[0m\u001b[0;34m,\u001b[0m \u001b[0;34m*\u001b[0m\u001b[0margs\u001b[0m\u001b[0;34m,\u001b[0m \u001b[0;34m**\u001b[0m\u001b[0mkwargs\u001b[0m\u001b[0;34m)\u001b[0m\u001b[0;34m:\u001b[0m\u001b[0;34m\u001b[0m\u001b[0;34m\u001b[0m\u001b[0m\n",
            "\u001b[0;32m/usr/local/lib/python3.10/dist-packages/torch/nn/modules/module.py\u001b[0m in \u001b[0;36m_call_impl\u001b[0;34m(self, *args, **kwargs)\u001b[0m\n\u001b[1;32m   1560\u001b[0m                 \u001b[0;32mor\u001b[0m \u001b[0m_global_backward_pre_hooks\u001b[0m \u001b[0;32mor\u001b[0m \u001b[0m_global_backward_hooks\u001b[0m\u001b[0;34m\u001b[0m\u001b[0;34m\u001b[0m\u001b[0m\n\u001b[1;32m   1561\u001b[0m                 or _global_forward_hooks or _global_forward_pre_hooks):\n\u001b[0;32m-> 1562\u001b[0;31m             \u001b[0;32mreturn\u001b[0m \u001b[0mforward_call\u001b[0m\u001b[0;34m(\u001b[0m\u001b[0;34m*\u001b[0m\u001b[0margs\u001b[0m\u001b[0;34m,\u001b[0m \u001b[0;34m**\u001b[0m\u001b[0mkwargs\u001b[0m\u001b[0;34m)\u001b[0m\u001b[0;34m\u001b[0m\u001b[0;34m\u001b[0m\u001b[0m\n\u001b[0m\u001b[1;32m   1563\u001b[0m \u001b[0;34m\u001b[0m\u001b[0m\n\u001b[1;32m   1564\u001b[0m         \u001b[0;32mtry\u001b[0m\u001b[0;34m:\u001b[0m\u001b[0;34m\u001b[0m\u001b[0;34m\u001b[0m\u001b[0m\n",
            "\u001b[0;32m<ipython-input-10-4ec97370ab50>\u001b[0m in \u001b[0;36mforward\u001b[0;34m(self, x)\u001b[0m\n\u001b[1;32m      7\u001b[0m     \u001b[0;32mdef\u001b[0m \u001b[0mforward\u001b[0m\u001b[0;34m(\u001b[0m\u001b[0mself\u001b[0m\u001b[0;34m,\u001b[0m \u001b[0mx\u001b[0m\u001b[0;34m)\u001b[0m\u001b[0;34m:\u001b[0m\u001b[0;34m\u001b[0m\u001b[0;34m\u001b[0m\u001b[0m\n\u001b[1;32m      8\u001b[0m         \u001b[0mx\u001b[0m \u001b[0;34m=\u001b[0m \u001b[0mx\u001b[0m\u001b[0;34m.\u001b[0m\u001b[0mview\u001b[0m\u001b[0;34m(\u001b[0m\u001b[0;34m-\u001b[0m\u001b[0;36m1\u001b[0m\u001b[0;34m,\u001b[0m \u001b[0;36m32\u001b[0m \u001b[0;34m*\u001b[0m \u001b[0;36m32\u001b[0m \u001b[0;34m*\u001b[0m \u001b[0;36m3\u001b[0m\u001b[0;34m)\u001b[0m  \u001b[0;31m# 이미지를 1차원으로 변환\u001b[0m\u001b[0;34m\u001b[0m\u001b[0;34m\u001b[0m\u001b[0m\n\u001b[0;32m----> 9\u001b[0;31m         \u001b[0mx\u001b[0m \u001b[0;34m=\u001b[0m \u001b[0mself\u001b[0m\u001b[0;34m.\u001b[0m\u001b[0mlinear\u001b[0m\u001b[0;34m(\u001b[0m\u001b[0mx\u001b[0m\u001b[0;34m)\u001b[0m\u001b[0;34m\u001b[0m\u001b[0;34m\u001b[0m\u001b[0m\n\u001b[0m\u001b[1;32m     10\u001b[0m         \u001b[0;32mreturn\u001b[0m \u001b[0mx\u001b[0m\u001b[0;34m\u001b[0m\u001b[0;34m\u001b[0m\u001b[0m\n\u001b[1;32m     11\u001b[0m \u001b[0;34m\u001b[0m\u001b[0m\n",
            "\u001b[0;32m/usr/local/lib/python3.10/dist-packages/torch/nn/modules/module.py\u001b[0m in \u001b[0;36m_wrapped_call_impl\u001b[0;34m(self, *args, **kwargs)\u001b[0m\n\u001b[1;32m   1551\u001b[0m             \u001b[0;32mreturn\u001b[0m \u001b[0mself\u001b[0m\u001b[0;34m.\u001b[0m\u001b[0m_compiled_call_impl\u001b[0m\u001b[0;34m(\u001b[0m\u001b[0;34m*\u001b[0m\u001b[0margs\u001b[0m\u001b[0;34m,\u001b[0m \u001b[0;34m**\u001b[0m\u001b[0mkwargs\u001b[0m\u001b[0;34m)\u001b[0m  \u001b[0;31m# type: ignore[misc]\u001b[0m\u001b[0;34m\u001b[0m\u001b[0;34m\u001b[0m\u001b[0m\n\u001b[1;32m   1552\u001b[0m         \u001b[0;32melse\u001b[0m\u001b[0;34m:\u001b[0m\u001b[0;34m\u001b[0m\u001b[0;34m\u001b[0m\u001b[0m\n\u001b[0;32m-> 1553\u001b[0;31m             \u001b[0;32mreturn\u001b[0m \u001b[0mself\u001b[0m\u001b[0;34m.\u001b[0m\u001b[0m_call_impl\u001b[0m\u001b[0;34m(\u001b[0m\u001b[0;34m*\u001b[0m\u001b[0margs\u001b[0m\u001b[0;34m,\u001b[0m \u001b[0;34m**\u001b[0m\u001b[0mkwargs\u001b[0m\u001b[0;34m)\u001b[0m\u001b[0;34m\u001b[0m\u001b[0;34m\u001b[0m\u001b[0m\n\u001b[0m\u001b[1;32m   1554\u001b[0m \u001b[0;34m\u001b[0m\u001b[0m\n\u001b[1;32m   1555\u001b[0m     \u001b[0;32mdef\u001b[0m \u001b[0m_call_impl\u001b[0m\u001b[0;34m(\u001b[0m\u001b[0mself\u001b[0m\u001b[0;34m,\u001b[0m \u001b[0;34m*\u001b[0m\u001b[0margs\u001b[0m\u001b[0;34m,\u001b[0m \u001b[0;34m**\u001b[0m\u001b[0mkwargs\u001b[0m\u001b[0;34m)\u001b[0m\u001b[0;34m:\u001b[0m\u001b[0;34m\u001b[0m\u001b[0;34m\u001b[0m\u001b[0m\n",
            "\u001b[0;32m/usr/local/lib/python3.10/dist-packages/torch/nn/modules/module.py\u001b[0m in \u001b[0;36m_call_impl\u001b[0;34m(self, *args, **kwargs)\u001b[0m\n\u001b[1;32m   1560\u001b[0m                 \u001b[0;32mor\u001b[0m \u001b[0m_global_backward_pre_hooks\u001b[0m \u001b[0;32mor\u001b[0m \u001b[0m_global_backward_hooks\u001b[0m\u001b[0;34m\u001b[0m\u001b[0;34m\u001b[0m\u001b[0m\n\u001b[1;32m   1561\u001b[0m                 or _global_forward_hooks or _global_forward_pre_hooks):\n\u001b[0;32m-> 1562\u001b[0;31m             \u001b[0;32mreturn\u001b[0m \u001b[0mforward_call\u001b[0m\u001b[0;34m(\u001b[0m\u001b[0;34m*\u001b[0m\u001b[0margs\u001b[0m\u001b[0;34m,\u001b[0m \u001b[0;34m**\u001b[0m\u001b[0mkwargs\u001b[0m\u001b[0;34m)\u001b[0m\u001b[0;34m\u001b[0m\u001b[0;34m\u001b[0m\u001b[0m\n\u001b[0m\u001b[1;32m   1563\u001b[0m \u001b[0;34m\u001b[0m\u001b[0m\n\u001b[1;32m   1564\u001b[0m         \u001b[0;32mtry\u001b[0m\u001b[0;34m:\u001b[0m\u001b[0;34m\u001b[0m\u001b[0;34m\u001b[0m\u001b[0m\n",
            "\u001b[0;32m/usr/local/lib/python3.10/dist-packages/torch/nn/modules/linear.py\u001b[0m in \u001b[0;36mforward\u001b[0;34m(self, input)\u001b[0m\n\u001b[1;32m    115\u001b[0m \u001b[0;34m\u001b[0m\u001b[0m\n\u001b[1;32m    116\u001b[0m     \u001b[0;32mdef\u001b[0m \u001b[0mforward\u001b[0m\u001b[0;34m(\u001b[0m\u001b[0mself\u001b[0m\u001b[0;34m,\u001b[0m \u001b[0minput\u001b[0m\u001b[0;34m:\u001b[0m \u001b[0mTensor\u001b[0m\u001b[0;34m)\u001b[0m \u001b[0;34m->\u001b[0m \u001b[0mTensor\u001b[0m\u001b[0;34m:\u001b[0m\u001b[0;34m\u001b[0m\u001b[0;34m\u001b[0m\u001b[0m\n\u001b[0;32m--> 117\u001b[0;31m         \u001b[0;32mreturn\u001b[0m \u001b[0mF\u001b[0m\u001b[0;34m.\u001b[0m\u001b[0mlinear\u001b[0m\u001b[0;34m(\u001b[0m\u001b[0minput\u001b[0m\u001b[0;34m,\u001b[0m \u001b[0mself\u001b[0m\u001b[0;34m.\u001b[0m\u001b[0mweight\u001b[0m\u001b[0;34m,\u001b[0m \u001b[0mself\u001b[0m\u001b[0;34m.\u001b[0m\u001b[0mbias\u001b[0m\u001b[0;34m)\u001b[0m\u001b[0;34m\u001b[0m\u001b[0;34m\u001b[0m\u001b[0m\n\u001b[0m\u001b[1;32m    118\u001b[0m \u001b[0;34m\u001b[0m\u001b[0m\n\u001b[1;32m    119\u001b[0m     \u001b[0;32mdef\u001b[0m \u001b[0mextra_repr\u001b[0m\u001b[0;34m(\u001b[0m\u001b[0mself\u001b[0m\u001b[0;34m)\u001b[0m \u001b[0;34m->\u001b[0m \u001b[0mstr\u001b[0m\u001b[0;34m:\u001b[0m\u001b[0;34m\u001b[0m\u001b[0;34m\u001b[0m\u001b[0m\n",
            "\u001b[0;31mRuntimeError\u001b[0m: Expected all tensors to be on the same device, but found at least two devices, cuda:0 and cpu! (when checking argument for argument mat1 in method wrapper_CUDA_addmm)"
          ]
        }
      ]
    },
    {
      "cell_type": "code",
      "source": [
        "def test_model(model):\n",
        "    model.eval()  # 평가 모드 설정\n",
        "    correct = 0\n",
        "    total = 0\n",
        "    with torch.no_grad():\n",
        "        for data in testloader:\n",
        "            images, labels = data\n",
        "            images = images.to(device)\n",
        "            labels = labels.to(device)\n",
        "            outputs = model(images)\n",
        "            _, predicted = torch.max(outputs, 1)\n",
        "            total += labels.size(0)\n",
        "            correct += (predicted == labels).sum().item()\n",
        "\n",
        "    accuracy = 100 * correct / total\n",
        "    return accuracy"
      ],
      "metadata": {
        "id": "EfKFWDkjaBWZ"
      },
      "execution_count": 22,
      "outputs": []
    },
    {
      "cell_type": "code",
      "source": [
        "train_loss, test_acc = train_model(optimizer, model)"
      ],
      "metadata": {
        "colab": {
          "base_uri": "https://localhost:8080/",
          "height": 350
        },
        "id": "2c5wP9VAapGu",
        "outputId": "6537c26b-c529-4403-d9ca-8421aab495a8"
      },
      "execution_count": 24,
      "outputs": [
        {
          "output_type": "stream",
          "name": "stdout",
          "text": [
            "Epoch [1/10], Loss: 2.1230, Test Accuracy: 33.30%\n",
            "Epoch [2/10], Loss: 2.0995, Test Accuracy: 33.14%\n",
            "Epoch [3/10], Loss: 2.0892, Test Accuracy: 32.52%\n"
          ]
        },
        {
          "output_type": "error",
          "ename": "KeyboardInterrupt",
          "evalue": "",
          "traceback": [
            "\u001b[0;31m---------------------------------------------------------------------------\u001b[0m",
            "\u001b[0;31mKeyboardInterrupt\u001b[0m                         Traceback (most recent call last)",
            "\u001b[0;32m<ipython-input-24-11000afaa4d1>\u001b[0m in \u001b[0;36m<cell line: 1>\u001b[0;34m()\u001b[0m\n\u001b[0;32m----> 1\u001b[0;31m \u001b[0mtrain_loss\u001b[0m\u001b[0;34m,\u001b[0m \u001b[0mtest_acc\u001b[0m \u001b[0;34m=\u001b[0m \u001b[0mtrain_model\u001b[0m\u001b[0;34m(\u001b[0m\u001b[0moptimizer\u001b[0m\u001b[0;34m,\u001b[0m \u001b[0mmodel\u001b[0m\u001b[0;34m)\u001b[0m\u001b[0;34m\u001b[0m\u001b[0;34m\u001b[0m\u001b[0m\n\u001b[0m",
            "\u001b[0;32m<ipython-input-23-e2b41997addc>\u001b[0m in \u001b[0;36mtrain_model\u001b[0;34m(optimizer, model, num_epochs)\u001b[0m\n\u001b[1;32m      6\u001b[0m     \u001b[0;32mfor\u001b[0m \u001b[0mepoch\u001b[0m \u001b[0;32min\u001b[0m \u001b[0mrange\u001b[0m\u001b[0;34m(\u001b[0m\u001b[0mnum_epochs\u001b[0m\u001b[0;34m)\u001b[0m\u001b[0;34m:\u001b[0m\u001b[0;34m\u001b[0m\u001b[0;34m\u001b[0m\u001b[0m\n\u001b[1;32m      7\u001b[0m         \u001b[0mrunning_loss\u001b[0m \u001b[0;34m=\u001b[0m \u001b[0;36m0.0\u001b[0m\u001b[0;34m\u001b[0m\u001b[0;34m\u001b[0m\u001b[0m\n\u001b[0;32m----> 8\u001b[0;31m         \u001b[0;32mfor\u001b[0m \u001b[0mi\u001b[0m\u001b[0;34m,\u001b[0m \u001b[0mdata\u001b[0m \u001b[0;32min\u001b[0m \u001b[0menumerate\u001b[0m\u001b[0;34m(\u001b[0m\u001b[0mtrainloader\u001b[0m\u001b[0;34m,\u001b[0m \u001b[0;36m0\u001b[0m\u001b[0;34m)\u001b[0m\u001b[0;34m:\u001b[0m\u001b[0;34m\u001b[0m\u001b[0;34m\u001b[0m\u001b[0m\n\u001b[0m\u001b[1;32m      9\u001b[0m             \u001b[0minputs\u001b[0m\u001b[0;34m,\u001b[0m \u001b[0mlabels\u001b[0m \u001b[0;34m=\u001b[0m \u001b[0mdata\u001b[0m\u001b[0;34m\u001b[0m\u001b[0;34m\u001b[0m\u001b[0m\n\u001b[1;32m     10\u001b[0m \u001b[0;34m\u001b[0m\u001b[0m\n",
            "\u001b[0;32m/usr/local/lib/python3.10/dist-packages/torch/utils/data/dataloader.py\u001b[0m in \u001b[0;36m__next__\u001b[0;34m(self)\u001b[0m\n\u001b[1;32m    624\u001b[0m \u001b[0;34m\u001b[0m\u001b[0m\n\u001b[1;32m    625\u001b[0m     \u001b[0;32mdef\u001b[0m \u001b[0m__next__\u001b[0m\u001b[0;34m(\u001b[0m\u001b[0mself\u001b[0m\u001b[0;34m)\u001b[0m \u001b[0;34m->\u001b[0m \u001b[0mAny\u001b[0m\u001b[0;34m:\u001b[0m\u001b[0;34m\u001b[0m\u001b[0;34m\u001b[0m\u001b[0m\n\u001b[0;32m--> 626\u001b[0;31m         \u001b[0;32mwith\u001b[0m \u001b[0mtorch\u001b[0m\u001b[0;34m.\u001b[0m\u001b[0mautograd\u001b[0m\u001b[0;34m.\u001b[0m\u001b[0mprofiler\u001b[0m\u001b[0;34m.\u001b[0m\u001b[0mrecord_function\u001b[0m\u001b[0;34m(\u001b[0m\u001b[0mself\u001b[0m\u001b[0;34m.\u001b[0m\u001b[0m_profile_name\u001b[0m\u001b[0;34m)\u001b[0m\u001b[0;34m:\u001b[0m\u001b[0;34m\u001b[0m\u001b[0;34m\u001b[0m\u001b[0m\n\u001b[0m\u001b[1;32m    627\u001b[0m             \u001b[0;32mif\u001b[0m \u001b[0mself\u001b[0m\u001b[0;34m.\u001b[0m\u001b[0m_sampler_iter\u001b[0m \u001b[0;32mis\u001b[0m \u001b[0;32mNone\u001b[0m\u001b[0;34m:\u001b[0m\u001b[0;34m\u001b[0m\u001b[0;34m\u001b[0m\u001b[0m\n\u001b[1;32m    628\u001b[0m                 \u001b[0;31m# TODO(https://github.com/pytorch/pytorch/issues/76750)\u001b[0m\u001b[0;34m\u001b[0m\u001b[0;34m\u001b[0m\u001b[0m\n",
            "\u001b[0;32m/usr/local/lib/python3.10/dist-packages/torch/autograd/profiler.py\u001b[0m in \u001b[0;36m__exit__\u001b[0;34m(self, exc_type, exc_value, traceback)\u001b[0m\n\u001b[1;32m    703\u001b[0m         \u001b[0;32mif\u001b[0m \u001b[0;32mnot\u001b[0m \u001b[0mtorch\u001b[0m\u001b[0;34m.\u001b[0m\u001b[0mjit\u001b[0m\u001b[0;34m.\u001b[0m\u001b[0mis_scripting\u001b[0m\u001b[0;34m(\u001b[0m\u001b[0;34m)\u001b[0m\u001b[0;34m:\u001b[0m\u001b[0;34m\u001b[0m\u001b[0;34m\u001b[0m\u001b[0m\n\u001b[1;32m    704\u001b[0m             \u001b[0;32mwith\u001b[0m \u001b[0mtorch\u001b[0m\u001b[0;34m.\u001b[0m\u001b[0m_C\u001b[0m\u001b[0;34m.\u001b[0m\u001b[0mDisableTorchFunctionSubclass\u001b[0m\u001b[0;34m(\u001b[0m\u001b[0;34m)\u001b[0m\u001b[0;34m:\u001b[0m\u001b[0;34m\u001b[0m\u001b[0;34m\u001b[0m\u001b[0m\n\u001b[0;32m--> 705\u001b[0;31m                 \u001b[0mtorch\u001b[0m\u001b[0;34m.\u001b[0m\u001b[0mops\u001b[0m\u001b[0;34m.\u001b[0m\u001b[0mprofiler\u001b[0m\u001b[0;34m.\u001b[0m\u001b[0m_record_function_exit\u001b[0m\u001b[0;34m.\u001b[0m\u001b[0m_RecordFunction\u001b[0m\u001b[0;34m(\u001b[0m\u001b[0mrecord\u001b[0m\u001b[0;34m)\u001b[0m\u001b[0;34m\u001b[0m\u001b[0;34m\u001b[0m\u001b[0m\n\u001b[0m\u001b[1;32m    706\u001b[0m         \u001b[0;32melse\u001b[0m\u001b[0;34m:\u001b[0m\u001b[0;34m\u001b[0m\u001b[0;34m\u001b[0m\u001b[0m\n\u001b[1;32m    707\u001b[0m             \u001b[0mtorch\u001b[0m\u001b[0;34m.\u001b[0m\u001b[0mops\u001b[0m\u001b[0;34m.\u001b[0m\u001b[0mprofiler\u001b[0m\u001b[0;34m.\u001b[0m\u001b[0m_record_function_exit\u001b[0m\u001b[0;34m(\u001b[0m\u001b[0mrecord\u001b[0m\u001b[0;34m)\u001b[0m\u001b[0;34m\u001b[0m\u001b[0;34m\u001b[0m\u001b[0m\n",
            "\u001b[0;32m/usr/local/lib/python3.10/dist-packages/torch/_ops.py\u001b[0m in \u001b[0;36m__call__\u001b[0;34m(self_, *args, **kwargs)\u001b[0m\n\u001b[1;32m    901\u001b[0m                     \u001b[0margs\u001b[0m\u001b[0;34m,\u001b[0m \u001b[0mkwargs\u001b[0m\u001b[0;34m,\u001b[0m \u001b[0mself_\u001b[0m\u001b[0;34m.\u001b[0m\u001b[0m_fallthrough_keys\u001b[0m\u001b[0;34m(\u001b[0m\u001b[0;34m)\u001b[0m\u001b[0;34m\u001b[0m\u001b[0;34m\u001b[0m\u001b[0m\n\u001b[1;32m    902\u001b[0m                 )\n\u001b[0;32m--> 903\u001b[0;31m         \u001b[0;32mreturn\u001b[0m \u001b[0mself_\u001b[0m\u001b[0;34m.\u001b[0m\u001b[0m_op\u001b[0m\u001b[0;34m(\u001b[0m\u001b[0;34m*\u001b[0m\u001b[0margs\u001b[0m\u001b[0;34m,\u001b[0m \u001b[0;34m**\u001b[0m\u001b[0mkwargs\u001b[0m\u001b[0;34m)\u001b[0m\u001b[0;34m\u001b[0m\u001b[0;34m\u001b[0m\u001b[0m\n\u001b[0m\u001b[1;32m    904\u001b[0m \u001b[0;34m\u001b[0m\u001b[0m\n\u001b[1;32m    905\u001b[0m     \u001b[0;32mdef\u001b[0m \u001b[0m_dispatch_in_python\u001b[0m\u001b[0;34m(\u001b[0m\u001b[0mself\u001b[0m\u001b[0;34m,\u001b[0m \u001b[0margs\u001b[0m\u001b[0;34m,\u001b[0m \u001b[0mkwargs\u001b[0m\u001b[0;34m,\u001b[0m \u001b[0mfallthrough_keys\u001b[0m\u001b[0;34m)\u001b[0m\u001b[0;34m:\u001b[0m\u001b[0;34m\u001b[0m\u001b[0;34m\u001b[0m\u001b[0m\n",
            "\u001b[0;31mKeyboardInterrupt\u001b[0m: "
          ]
        }
      ]
    },
    {
      "cell_type": "code",
      "source": [],
      "metadata": {
        "id": "XUm9rb9RaqGH"
      },
      "execution_count": null,
      "outputs": []
    }
  ]
}